{
 "cells": [
  {
   "cell_type": "code",
   "execution_count": 1,
   "metadata": {},
   "outputs": [],
   "source": [
    "import requests\n",
    "import json\n",
    "import pandas as pd"
   ]
  },
  {
   "cell_type": "code",
   "execution_count": 2,
   "metadata": {},
   "outputs": [],
   "source": [
    "#!pip install folium"
   ]
  },
  {
   "cell_type": "code",
   "execution_count": 3,
   "metadata": {},
   "outputs": [],
   "source": [
    "import folium\n",
    "from folium import plugins"
   ]
  },
  {
   "cell_type": "markdown",
   "metadata": {},
   "source": [
    "# reference: \n",
    "#### https://sammi-baba.hatenablog.com/entry/2018/12/25/074017  \n",
    "#### http://www.ie110704.net/2016/11/11/e-stat-api%E3%82%92python%E3%81%8B%E3%82%89%E4%BD%BF%E3%81%A3%E3%81%A6%E5%9C%B0%E7%90%86%E3%83%87%E3%83%BC%E3%82%BF%E3%82%92%E5%8F%AF%E8%A6%96%E5%8C%96%E3%81%97%E3%81%A6%E3%81%BF%E3%81%9F/\n",
    "#### https://medium.com/@rode89/pandas%E8%A6%9A%E6%9B%B8-52252df4c231"
   ]
  },
  {
   "cell_type": "code",
   "execution_count": 4,
   "metadata": {},
   "outputs": [],
   "source": [
    "with open(\"api_key.json\", \"r\") as f:\n",
    "    appid = f.read()"
   ]
  },
  {
   "cell_type": "code",
   "execution_count": 5,
   "metadata": {},
   "outputs": [],
   "source": [
    "appid = appid.replace(\"\\n\", \"\")"
   ]
  },
  {
   "cell_type": "code",
   "execution_count": 6,
   "metadata": {},
   "outputs": [],
   "source": [
    "#appid = \"###################################\"\n",
    "api_version = \"2.1\"\n",
    "base_url = \"http://api.e-stat.go.jp/rest/{api_version}/app/json/\".format(api_version=api_version)\n",
    "\n",
    "\n",
    "\n",
    "#get_type=\"getSimpleStatsData\"\n",
    "get_type=\"getStatsData\"\n",
    "#get_type=\"refDataset\"\n",
    "stats_data_id=\"0003215844\"\n",
    "#cd_cat_01=\"0000\" # 国籍->全て\n",
    "#cd_cat_02=\"0000\" # 性別->男女\n",
    "#cd_cat_03=\"00710\" # 集計地域->全域\n",
    "lv_area=\"2\" # 集計レベル->都道府県レベル\n",
    "section_header_flg=\"2\" # セクションヘッダー->無し\n",
    "\n",
    "\n",
    "\n",
    "url = base_url + \"{get_type}?\\\n",
    "appId={appid}&\\\n",
    "statsDataId={stats_data_id}&\\\n",
    "lvArea={lv_area}&\\\n",
    "sectionHeaderFlg={section_header_flg}\".format(\n",
    "        get_type=get_type,\n",
    "        appid=appid,\n",
    "        stats_data_id=stats_data_id,\n",
    "        #cd_cat_01=cd_cat_01,\n",
    "        #cd_cat_02=cd_cat_02,\n",
    "        #cd_cat_03=cd_cat_03,\n",
    "        lv_area=lv_area,\n",
    "        section_header_flg=section_header_flg\n",
    "        )\n",
    "\n",
    "# cdCat01={cd_cat_01}&cdCat02={cd_cat_02}&cdCat03={cd_cat_03}&\\"
   ]
  },
  {
   "cell_type": "code",
   "execution_count": 7,
   "metadata": {},
   "outputs": [],
   "source": [
    "#url = \"http://api.e-stat.go.jp/rest/2.1/app/json/getStatsData?appId={}&lang=J&statsDataId=0003215844&metaGetFlg=N&cntGetFlg=N&sectionHeaderFlg=2\".format(api_key)\n",
    "res = requests.get(url)"
   ]
  },
  {
   "cell_type": "code",
   "execution_count": 8,
   "metadata": {},
   "outputs": [
    {
     "data": {
      "text/plain": [
       "<Response [200]>"
      ]
     },
     "execution_count": 8,
     "metadata": {},
     "output_type": "execute_result"
    }
   ],
   "source": [
    "res"
   ]
  },
  {
   "cell_type": "code",
   "execution_count": 9,
   "metadata": {},
   "outputs": [],
   "source": [
    "res = res.json()"
   ]
  },
  {
   "cell_type": "code",
   "execution_count": 10,
   "metadata": {},
   "outputs": [],
   "source": [
    "#res2 = json.loads(res.text)\n",
    "#assert res1 == res2"
   ]
  },
  {
   "cell_type": "code",
   "execution_count": 11,
   "metadata": {},
   "outputs": [],
   "source": [
    "def simple_parser(dic, tag):\n",
    "    res = []\n",
    "    for k,v in dic.items():\n",
    "        if k == tag:\n",
    "            res.append(v)\n",
    "            return res\n",
    "        elif isinstance(v, dict):\n",
    "            for r in simple_parser(v, tag):\n",
    "                res.append(r)\n",
    "        else:\n",
    "            []\n",
    "    return res"
   ]
  },
  {
   "cell_type": "code",
   "execution_count": 12,
   "metadata": {},
   "outputs": [],
   "source": [
    "values = simple_parser(res, \"VALUE\")[0] # list of dict_type objects"
   ]
  },
  {
   "cell_type": "code",
   "execution_count": 13,
   "metadata": {},
   "outputs": [
    {
     "data": {
      "text/plain": [
       "[{'@tab': '001',\n",
       "  '@cat01': '000',\n",
       "  '@cat02': '001',\n",
       "  '@area': '01000',\n",
       "  '@time': '2005000000',\n",
       "  '@unit': '千人',\n",
       "  '$': '5628'},\n",
       " {'@tab': '001',\n",
       "  '@cat01': '000',\n",
       "  '@cat02': '001',\n",
       "  '@area': '01000',\n",
       "  '@time': '2010000000',\n",
       "  '@unit': '千人',\n",
       "  '$': '5506'}]"
      ]
     },
     "execution_count": 13,
     "metadata": {},
     "output_type": "execute_result"
    }
   ],
   "source": [
    "values[:2]"
   ]
  },
  {
   "cell_type": "code",
   "execution_count": 14,
   "metadata": {},
   "outputs": [],
   "source": [
    "class_obj = simple_parser(res, \"CLASS_OBJ\")[0]"
   ]
  },
  {
   "cell_type": "code",
   "execution_count": 15,
   "metadata": {},
   "outputs": [
    {
     "data": {
      "text/plain": [
       "[{'@id': 'tab',\n",
       "  '@name': '表章項目',\n",
       "  'CLASS': {'@code': '001', '@name': '人口', '@level': '', '@unit': '千人'}},\n",
       " {'@id': 'cat01',\n",
       "  '@name': '男女別',\n",
       "  'CLASS': [{'@code': '000', '@name': '男女計', '@level': '1'},\n",
       "   {'@code': '001', '@name': '男', '@level': '1'},\n",
       "   {'@code': '002', '@name': '女', '@level': '1'}]},\n",
       " {'@id': 'cat02',\n",
       "  '@name': '人口',\n",
       "  'CLASS': [{'@code': '001', '@name': '総人口', '@level': '1'},\n",
       "   {'@code': '002', '@name': '日本人人口', '@level': '1'}]},\n",
       " {'@id': 'area',\n",
       "  '@name': '全国・都道府県',\n",
       "  'CLASS': [{'@code': '01000', '@name': '北海道', '@level': '2'},\n",
       "   {'@code': '02000', '@name': '青森県', '@level': '2'},\n",
       "   {'@code': '03000', '@name': '岩手県', '@level': '2'},\n",
       "   {'@code': '04000', '@name': '宮城県', '@level': '2'},\n",
       "   {'@code': '05000', '@name': '秋田県', '@level': '2'},\n",
       "   {'@code': '06000', '@name': '山形県', '@level': '2'},\n",
       "   {'@code': '07000', '@name': '福島県', '@level': '2'},\n",
       "   {'@code': '08000', '@name': '茨城県', '@level': '2'},\n",
       "   {'@code': '09000', '@name': '栃木県', '@level': '2'},\n",
       "   {'@code': '10000', '@name': '群馬県', '@level': '2'},\n",
       "   {'@code': '11000', '@name': '埼玉県', '@level': '2'},\n",
       "   {'@code': '12000', '@name': '千葉県', '@level': '2'},\n",
       "   {'@code': '13000', '@name': '東京都', '@level': '2'},\n",
       "   {'@code': '14000', '@name': '神奈川県', '@level': '2'},\n",
       "   {'@code': '15000', '@name': '新潟県', '@level': '2'},\n",
       "   {'@code': '16000', '@name': '富山県', '@level': '2'},\n",
       "   {'@code': '17000', '@name': '石川県', '@level': '2'},\n",
       "   {'@code': '18000', '@name': '福井県', '@level': '2'},\n",
       "   {'@code': '19000', '@name': '山梨県', '@level': '2'},\n",
       "   {'@code': '20000', '@name': '長野県', '@level': '2'},\n",
       "   {'@code': '21000', '@name': '岐阜県', '@level': '2'},\n",
       "   {'@code': '22000', '@name': '静岡県', '@level': '2'},\n",
       "   {'@code': '23000', '@name': '愛知県', '@level': '2'},\n",
       "   {'@code': '24000', '@name': '三重県', '@level': '2'},\n",
       "   {'@code': '25000', '@name': '滋賀県', '@level': '2'},\n",
       "   {'@code': '26000', '@name': '京都府', '@level': '2'},\n",
       "   {'@code': '27000', '@name': '大阪府', '@level': '2'},\n",
       "   {'@code': '28000', '@name': '兵庫県', '@level': '2'},\n",
       "   {'@code': '29000', '@name': '奈良県', '@level': '2'},\n",
       "   {'@code': '30000', '@name': '和歌山県', '@level': '2'},\n",
       "   {'@code': '31000', '@name': '鳥取県', '@level': '2'},\n",
       "   {'@code': '32000', '@name': '島根県', '@level': '2'},\n",
       "   {'@code': '33000', '@name': '岡山県', '@level': '2'},\n",
       "   {'@code': '34000', '@name': '広島県', '@level': '2'},\n",
       "   {'@code': '35000', '@name': '山口県', '@level': '2'},\n",
       "   {'@code': '36000', '@name': '徳島県', '@level': '2'},\n",
       "   {'@code': '37000', '@name': '香川県', '@level': '2'},\n",
       "   {'@code': '38000', '@name': '愛媛県', '@level': '2'},\n",
       "   {'@code': '39000', '@name': '高知県', '@level': '2'},\n",
       "   {'@code': '40000', '@name': '福岡県', '@level': '2'},\n",
       "   {'@code': '41000', '@name': '佐賀県', '@level': '2'},\n",
       "   {'@code': '42000', '@name': '長崎県', '@level': '2'},\n",
       "   {'@code': '43000', '@name': '熊本県', '@level': '2'},\n",
       "   {'@code': '44000', '@name': '大分県', '@level': '2'},\n",
       "   {'@code': '45000', '@name': '宮崎県', '@level': '2'},\n",
       "   {'@code': '46000', '@name': '鹿児島県', '@level': '2'},\n",
       "   {'@code': '47000', '@name': '沖縄県', '@level': '2'}]},\n",
       " {'@id': 'time',\n",
       "  '@name': '時間軸（年）',\n",
       "  'CLASS': [{'@code': '2005000000', '@name': '平成17年', '@level': '1'},\n",
       "   {'@code': '2010000000', '@name': '平成22年', '@level': '1'},\n",
       "   {'@code': '2015000000', '@name': '平成27年', '@level': '1'},\n",
       "   {'@code': '2016000000', '@name': '平成28年', '@level': '1'},\n",
       "   {'@code': '2017000000', '@name': '平成29年', '@level': '1'}]}]"
      ]
     },
     "execution_count": 15,
     "metadata": {},
     "output_type": "execute_result"
    }
   ],
   "source": [
    "class_obj"
   ]
  },
  {
   "cell_type": "code",
   "execution_count": 16,
   "metadata": {},
   "outputs": [
    {
     "data": {
      "text/plain": [
       "'男女別'"
      ]
     },
     "execution_count": 16,
     "metadata": {},
     "output_type": "execute_result"
    }
   ],
   "source": [
    "cat01 = class_obj[1][\"@name\"] #column name\n",
    "cat01"
   ]
  },
  {
   "cell_type": "code",
   "execution_count": 17,
   "metadata": {},
   "outputs": [
    {
     "data": {
      "text/plain": [
       "'人口'"
      ]
     },
     "execution_count": 17,
     "metadata": {},
     "output_type": "execute_result"
    }
   ],
   "source": [
    "cat02 = class_obj[2][\"@name\"] #column name\n",
    "cat02"
   ]
  },
  {
   "cell_type": "code",
   "execution_count": 18,
   "metadata": {},
   "outputs": [
    {
     "data": {
      "text/plain": [
       "'全国・都道府県'"
      ]
     },
     "execution_count": 18,
     "metadata": {},
     "output_type": "execute_result"
    }
   ],
   "source": [
    "cat03 = class_obj[3][\"@name\"]\n",
    "cat03"
   ]
  },
  {
   "cell_type": "code",
   "execution_count": 19,
   "metadata": {},
   "outputs": [
    {
     "data": {
      "text/plain": [
       "'時間軸（年）'"
      ]
     },
     "execution_count": 19,
     "metadata": {},
     "output_type": "execute_result"
    }
   ],
   "source": [
    "cat04 = class_obj[4][\"@name\"]\n",
    "cat04"
   ]
  },
  {
   "cell_type": "code",
   "execution_count": 20,
   "metadata": {},
   "outputs": [],
   "source": [
    "col_info = {\"@cat01\":cat01, \"@cat02\":cat02, \"@area\":cat03, \"@time\":cat04 ,\"$\":\"千人\"}\n",
    "\n",
    "cat01_map = {d[\"@code\"]:d[\"@name\"] for d in class_obj[1][\"CLASS\"]}\n",
    "cat02_map = {d[\"@code\"]:d[\"@name\"] for d in class_obj[2][\"CLASS\"]}\n",
    "cat03_map = {d[\"@code\"]:d[\"@name\"] for d in class_obj[3][\"CLASS\"]}\n",
    "cat04_map = {d[\"@code\"]:d[\"@name\"] for d in class_obj[4][\"CLASS\"]}\n",
    "\n",
    "df = pd.DataFrame(values, columns=[\"@cat01\", \"@cat02\", \"@area\", \"@time\", \"$\"]).rename(columns=col_info)\n",
    "\n",
    "df[cat01] = df[cat01].map(cat01_map)\n",
    "df[cat02] = df[cat02].map(cat02_map)\n",
    "df[cat03] = df[cat03].map(cat03_map)\n",
    "df[cat04] = df[cat04].map(cat04_map)"
   ]
  },
  {
   "cell_type": "code",
   "execution_count": 21,
   "metadata": {},
   "outputs": [],
   "source": [
    "df = df[(df[\"男女別\"]==\"男女計\")&(df[\"人口\"]==\"総人口\")]"
   ]
  },
  {
   "cell_type": "code",
   "execution_count": 22,
   "metadata": {},
   "outputs": [],
   "source": [
    "df = df[[\"時間軸（年）\", \"全国・都道府県\", \"千人\"]]"
   ]
  },
  {
   "cell_type": "code",
   "execution_count": 23,
   "metadata": {},
   "outputs": [],
   "source": [
    "df[\"千人\"] = df[\"千人\"].apply(lambda x: int(x)*1000)"
   ]
  },
  {
   "cell_type": "code",
   "execution_count": 24,
   "metadata": {},
   "outputs": [],
   "source": [
    "df.rename(columns={\"千人\":\"人口\", \"時間軸（年）\":\"年\", \"全国・都道府県\":\"都道府県\"}, inplace=True)"
   ]
  },
  {
   "cell_type": "code",
   "execution_count": 25,
   "metadata": {},
   "outputs": [
    {
     "data": {
      "text/html": [
       "<div>\n",
       "<style scoped>\n",
       "    .dataframe tbody tr th:only-of-type {\n",
       "        vertical-align: middle;\n",
       "    }\n",
       "\n",
       "    .dataframe tbody tr th {\n",
       "        vertical-align: top;\n",
       "    }\n",
       "\n",
       "    .dataframe thead th {\n",
       "        text-align: right;\n",
       "    }\n",
       "</style>\n",
       "<table border=\"1\" class=\"dataframe\">\n",
       "  <thead>\n",
       "    <tr style=\"text-align: right;\">\n",
       "      <th></th>\n",
       "      <th>年</th>\n",
       "      <th>都道府県</th>\n",
       "      <th>人口</th>\n",
       "    </tr>\n",
       "  </thead>\n",
       "  <tbody>\n",
       "    <tr>\n",
       "      <th>0</th>\n",
       "      <td>平成17年</td>\n",
       "      <td>北海道</td>\n",
       "      <td>5628000</td>\n",
       "    </tr>\n",
       "    <tr>\n",
       "      <th>1</th>\n",
       "      <td>平成22年</td>\n",
       "      <td>北海道</td>\n",
       "      <td>5506000</td>\n",
       "    </tr>\n",
       "    <tr>\n",
       "      <th>2</th>\n",
       "      <td>平成27年</td>\n",
       "      <td>北海道</td>\n",
       "      <td>5382000</td>\n",
       "    </tr>\n",
       "    <tr>\n",
       "      <th>3</th>\n",
       "      <td>平成28年</td>\n",
       "      <td>北海道</td>\n",
       "      <td>5352000</td>\n",
       "    </tr>\n",
       "    <tr>\n",
       "      <th>4</th>\n",
       "      <td>平成29年</td>\n",
       "      <td>北海道</td>\n",
       "      <td>5320000</td>\n",
       "    </tr>\n",
       "    <tr>\n",
       "      <th>5</th>\n",
       "      <td>平成17年</td>\n",
       "      <td>青森県</td>\n",
       "      <td>1437000</td>\n",
       "    </tr>\n",
       "    <tr>\n",
       "      <th>6</th>\n",
       "      <td>平成22年</td>\n",
       "      <td>青森県</td>\n",
       "      <td>1373000</td>\n",
       "    </tr>\n",
       "    <tr>\n",
       "      <th>7</th>\n",
       "      <td>平成27年</td>\n",
       "      <td>青森県</td>\n",
       "      <td>1308000</td>\n",
       "    </tr>\n",
       "    <tr>\n",
       "      <th>8</th>\n",
       "      <td>平成28年</td>\n",
       "      <td>青森県</td>\n",
       "      <td>1293000</td>\n",
       "    </tr>\n",
       "    <tr>\n",
       "      <th>9</th>\n",
       "      <td>平成29年</td>\n",
       "      <td>青森県</td>\n",
       "      <td>1278000</td>\n",
       "    </tr>\n",
       "    <tr>\n",
       "      <th>10</th>\n",
       "      <td>平成17年</td>\n",
       "      <td>岩手県</td>\n",
       "      <td>1385000</td>\n",
       "    </tr>\n",
       "    <tr>\n",
       "      <th>11</th>\n",
       "      <td>平成22年</td>\n",
       "      <td>岩手県</td>\n",
       "      <td>1330000</td>\n",
       "    </tr>\n",
       "    <tr>\n",
       "      <th>12</th>\n",
       "      <td>平成27年</td>\n",
       "      <td>岩手県</td>\n",
       "      <td>1280000</td>\n",
       "    </tr>\n",
       "    <tr>\n",
       "      <th>13</th>\n",
       "      <td>平成28年</td>\n",
       "      <td>岩手県</td>\n",
       "      <td>1268000</td>\n",
       "    </tr>\n",
       "    <tr>\n",
       "      <th>14</th>\n",
       "      <td>平成29年</td>\n",
       "      <td>岩手県</td>\n",
       "      <td>1255000</td>\n",
       "    </tr>\n",
       "    <tr>\n",
       "      <th>15</th>\n",
       "      <td>平成17年</td>\n",
       "      <td>宮城県</td>\n",
       "      <td>2360000</td>\n",
       "    </tr>\n",
       "    <tr>\n",
       "      <th>16</th>\n",
       "      <td>平成22年</td>\n",
       "      <td>宮城県</td>\n",
       "      <td>2348000</td>\n",
       "    </tr>\n",
       "    <tr>\n",
       "      <th>17</th>\n",
       "      <td>平成27年</td>\n",
       "      <td>宮城県</td>\n",
       "      <td>2334000</td>\n",
       "    </tr>\n",
       "    <tr>\n",
       "      <th>18</th>\n",
       "      <td>平成28年</td>\n",
       "      <td>宮城県</td>\n",
       "      <td>2330000</td>\n",
       "    </tr>\n",
       "    <tr>\n",
       "      <th>19</th>\n",
       "      <td>平成29年</td>\n",
       "      <td>宮城県</td>\n",
       "      <td>2323000</td>\n",
       "    </tr>\n",
       "  </tbody>\n",
       "</table>\n",
       "</div>"
      ],
      "text/plain": [
       "        年 都道府県       人口\n",
       "0   平成17年  北海道  5628000\n",
       "1   平成22年  北海道  5506000\n",
       "2   平成27年  北海道  5382000\n",
       "3   平成28年  北海道  5352000\n",
       "4   平成29年  北海道  5320000\n",
       "5   平成17年  青森県  1437000\n",
       "6   平成22年  青森県  1373000\n",
       "7   平成27年  青森県  1308000\n",
       "8   平成28年  青森県  1293000\n",
       "9   平成29年  青森県  1278000\n",
       "10  平成17年  岩手県  1385000\n",
       "11  平成22年  岩手県  1330000\n",
       "12  平成27年  岩手県  1280000\n",
       "13  平成28年  岩手県  1268000\n",
       "14  平成29年  岩手県  1255000\n",
       "15  平成17年  宮城県  2360000\n",
       "16  平成22年  宮城県  2348000\n",
       "17  平成27年  宮城県  2334000\n",
       "18  平成28年  宮城県  2330000\n",
       "19  平成29年  宮城県  2323000"
      ]
     },
     "execution_count": 25,
     "metadata": {},
     "output_type": "execute_result"
    }
   ],
   "source": [
    "df.head(20)"
   ]
  },
  {
   "cell_type": "code",
   "execution_count": 26,
   "metadata": {},
   "outputs": [
    {
     "data": {
      "text/plain": [
       "(235, 3)"
      ]
     },
     "execution_count": 26,
     "metadata": {},
     "output_type": "execute_result"
    }
   ],
   "source": [
    "df.shape"
   ]
  },
  {
   "cell_type": "markdown",
   "metadata": {},
   "source": [
    "# Read geocode data"
   ]
  },
  {
   "cell_type": "code",
   "execution_count": 27,
   "metadata": {},
   "outputs": [],
   "source": [
    "gdf = pd.read_csv(\"../prefecturalCapital.csv\")\n",
    "gdf[\"nam_ja\"] = gdf[\"nam_ja\"].apply(lambda x: x + \"県\" if x not in (\"北海道\", \"東京\", \"大阪\", \"京都\") else x)"
   ]
  },
  {
   "cell_type": "code",
   "execution_count": 28,
   "metadata": {},
   "outputs": [],
   "source": [
    "gdf[\"nam_ja\"] = gdf[\"nam_ja\"].apply(lambda x: x + \"府\" if x in (\"大阪\", \"京都\") else x)\n",
    "gdf[\"nam_ja\"] = gdf[\"nam_ja\"].apply(lambda x: x + \"都\" if x == \"東京\" else x)\n",
    "gdf.rename(columns={\"nam_ja\":\"都道府県\"}, inplace=True)\n",
    "gdf.drop(\"id\", axis=1, inplace=True)"
   ]
  },
  {
   "cell_type": "code",
   "execution_count": 29,
   "metadata": {},
   "outputs": [],
   "source": [
    "df = pd.merge(df, gdf, on=\"都道府県\", how='left')"
   ]
  },
  {
   "cell_type": "code",
   "execution_count": 30,
   "metadata": {},
   "outputs": [
    {
     "data": {
      "text/html": [
       "<div>\n",
       "<style scoped>\n",
       "    .dataframe tbody tr th:only-of-type {\n",
       "        vertical-align: middle;\n",
       "    }\n",
       "\n",
       "    .dataframe tbody tr th {\n",
       "        vertical-align: top;\n",
       "    }\n",
       "\n",
       "    .dataframe thead th {\n",
       "        text-align: right;\n",
       "    }\n",
       "</style>\n",
       "<table border=\"1\" class=\"dataframe\">\n",
       "  <thead>\n",
       "    <tr style=\"text-align: right;\">\n",
       "      <th></th>\n",
       "      <th>年</th>\n",
       "      <th>都道府県</th>\n",
       "      <th>人口</th>\n",
       "      <th>lat</th>\n",
       "      <th>lon</th>\n",
       "    </tr>\n",
       "  </thead>\n",
       "  <tbody>\n",
       "    <tr>\n",
       "      <th>0</th>\n",
       "      <td>平成17年</td>\n",
       "      <td>北海道</td>\n",
       "      <td>5628000</td>\n",
       "      <td>43.064359</td>\n",
       "      <td>141.347449</td>\n",
       "    </tr>\n",
       "    <tr>\n",
       "      <th>1</th>\n",
       "      <td>平成22年</td>\n",
       "      <td>北海道</td>\n",
       "      <td>5506000</td>\n",
       "      <td>43.064359</td>\n",
       "      <td>141.347449</td>\n",
       "    </tr>\n",
       "    <tr>\n",
       "      <th>2</th>\n",
       "      <td>平成27年</td>\n",
       "      <td>北海道</td>\n",
       "      <td>5382000</td>\n",
       "      <td>43.064359</td>\n",
       "      <td>141.347449</td>\n",
       "    </tr>\n",
       "    <tr>\n",
       "      <th>3</th>\n",
       "      <td>平成28年</td>\n",
       "      <td>北海道</td>\n",
       "      <td>5352000</td>\n",
       "      <td>43.064359</td>\n",
       "      <td>141.347449</td>\n",
       "    </tr>\n",
       "    <tr>\n",
       "      <th>4</th>\n",
       "      <td>平成29年</td>\n",
       "      <td>北海道</td>\n",
       "      <td>5320000</td>\n",
       "      <td>43.064359</td>\n",
       "      <td>141.347449</td>\n",
       "    </tr>\n",
       "  </tbody>\n",
       "</table>\n",
       "</div>"
      ],
      "text/plain": [
       "       年 都道府県       人口        lat         lon\n",
       "0  平成17年  北海道  5628000  43.064359  141.347449\n",
       "1  平成22年  北海道  5506000  43.064359  141.347449\n",
       "2  平成27年  北海道  5382000  43.064359  141.347449\n",
       "3  平成28年  北海道  5352000  43.064359  141.347449\n",
       "4  平成29年  北海道  5320000  43.064359  141.347449"
      ]
     },
     "execution_count": 30,
     "metadata": {},
     "output_type": "execute_result"
    }
   ],
   "source": [
    "df.head()"
   ]
  },
  {
   "cell_type": "markdown",
   "metadata": {},
   "source": [
    "# Geomapping"
   ]
  },
  {
   "cell_type": "code",
   "execution_count": 31,
   "metadata": {},
   "outputs": [],
   "source": [
    "time_series = [\"17\",\"22\",\"27\",\"28\",\"29\"]"
   ]
  },
  {
   "cell_type": "code",
   "execution_count": 36,
   "metadata": {},
   "outputs": [],
   "source": [
    "#heat_data = [[row['lat'],row['lon'], row[\"人口\"]] for index, row in df.iterrows()]\n",
    "heat_data = [[[row['lat'],row['lon'], row[\"人口\"]] for index, row in df[df[\"年\"]==\"平成\"+year+\"年\"].iterrows()] for year in time_series]"
   ]
  },
  {
   "cell_type": "code",
   "execution_count": 38,
   "metadata": {},
   "outputs": [
    {
     "data": {
      "text/plain": [
       "[[[43.064359, 141.347449, 5628000],\n",
       "  [40.824294, 140.74005400000001, 1437000],\n",
       "  [39.70353, 141.15266699999998, 1385000],\n",
       "  [38.268737, 140.872183, 2360000],\n",
       "  [39.718175, 140.10335600000002, 1146000],\n",
       "  [38.240127, 140.362533, 1216000],\n",
       "  [37.750146, 140.466754, 2091000],\n",
       "  [36.341817, 140.446796, 2975000],\n",
       "  [36.56575, 139.883526, 2017000],\n",
       "  [36.391205, 139.060917, 2024000],\n",
       "  [35.857771, 139.647804, 7054000],\n",
       "  [35.604563, 140.123179, 6056000],\n",
       "  [35.689184999999995, 139.691648, 12577000],\n",
       "  [35.447505, 139.642347, 8792000],\n",
       "  [37.901699, 139.022728, 2431000],\n",
       "  [36.695274, 137.211302, 1112000],\n",
       "  [36.594729, 136.62555, 1174000],\n",
       "  [36.065220000000004, 136.221641, 822000],\n",
       "  [35.665102000000005, 138.568985, 885000],\n",
       "  [36.651282, 138.180972, 2196000],\n",
       "  [35.39116, 136.722204, 2107000],\n",
       "  [34.976987, 138.383057, 3792000],\n",
       "  [35.180246999999994, 136.906698, 7255000],\n",
       "  [34.730546999999994, 136.50861, 1867000],\n",
       "  [35.004532, 135.868588, 1380000],\n",
       "  [35.020996200000006, 135.7531135, 2648000],\n",
       "  [34.686492, 135.518992, 8817000],\n",
       "  [34.69128, 135.183087, 5591000],\n",
       "  [34.685296, 135.832745, 1421000],\n",
       "  [34.224806, 135.16795, 1036000],\n",
       "  [35.503463, 134.238258, 607000],\n",
       "  [35.472248, 133.05083, 742000],\n",
       "  [34.66132, 133.934414, 1957000],\n",
       "  [34.396033, 132.459595, 2877000],\n",
       "  [34.185648, 131.470755, 1493000],\n",
       "  [34.065732000000004, 134.559293, 810000],\n",
       "  [34.340140000000005, 134.04297, 1012000],\n",
       "  [33.841649, 132.76585, 1468000],\n",
       "  [33.55969, 133.530887, 796000],\n",
       "  [33.606767, 130.418228, 5050000],\n",
       "  [33.249367, 130.298822, 866000],\n",
       "  [32.744541999999996, 129.873037, 1479000],\n",
       "  [32.790385, 130.742345, 1842000],\n",
       "  [33.2382, 131.612674, 1210000],\n",
       "  [31.91109, 131.423855, 1153000],\n",
       "  [31.560219, 130.557906, 1753000],\n",
       "  [26.211538, 127.68111499999999, 1362000]],\n",
       " [[43.064359, 141.347449, 5506000],\n",
       "  [40.824294, 140.74005400000001, 1373000],\n",
       "  [39.70353, 141.15266699999998, 1330000],\n",
       "  [38.268737, 140.872183, 2348000],\n",
       "  [39.718175, 140.10335600000002, 1086000],\n",
       "  [38.240127, 140.362533, 1169000],\n",
       "  [37.750146, 140.466754, 2029000],\n",
       "  [36.341817, 140.446796, 2970000],\n",
       "  [36.56575, 139.883526, 2008000],\n",
       "  [36.391205, 139.060917, 2008000],\n",
       "  [35.857771, 139.647804, 7195000],\n",
       "  [35.604563, 140.123179, 6216000],\n",
       "  [35.689184999999995, 139.691648, 13159000],\n",
       "  [35.447505, 139.642347, 9048000],\n",
       "  [37.901699, 139.022728, 2374000],\n",
       "  [36.695274, 137.211302, 1093000],\n",
       "  [36.594729, 136.62555, 1170000],\n",
       "  [36.065220000000004, 136.221641, 806000],\n",
       "  [35.665102000000005, 138.568985, 863000],\n",
       "  [36.651282, 138.180972, 2152000],\n",
       "  [35.39116, 136.722204, 2081000],\n",
       "  [34.976987, 138.383057, 3765000],\n",
       "  [35.180246999999994, 136.906698, 7411000],\n",
       "  [34.730546999999994, 136.50861, 1855000],\n",
       "  [35.004532, 135.868588, 1411000],\n",
       "  [35.020996200000006, 135.7531135, 2636000],\n",
       "  [34.686492, 135.518992, 8865000],\n",
       "  [34.69128, 135.183087, 5588000],\n",
       "  [34.685296, 135.832745, 1401000],\n",
       "  [34.224806, 135.16795, 1002000],\n",
       "  [35.503463, 134.238258, 589000],\n",
       "  [35.472248, 133.05083, 717000],\n",
       "  [34.66132, 133.934414, 1945000],\n",
       "  [34.396033, 132.459595, 2861000],\n",
       "  [34.185648, 131.470755, 1451000],\n",
       "  [34.065732000000004, 134.559293, 785000],\n",
       "  [34.340140000000005, 134.04297, 996000],\n",
       "  [33.841649, 132.76585, 1431000],\n",
       "  [33.55969, 133.530887, 764000],\n",
       "  [33.606767, 130.418228, 5072000],\n",
       "  [33.249367, 130.298822, 850000],\n",
       "  [32.744541999999996, 129.873037, 1427000],\n",
       "  [32.790385, 130.742345, 1817000],\n",
       "  [33.2382, 131.612674, 1197000],\n",
       "  [31.91109, 131.423855, 1135000],\n",
       "  [31.560219, 130.557906, 1706000],\n",
       "  [26.211538, 127.68111499999999, 1393000]],\n",
       " [[43.064359, 141.347449, 5382000],\n",
       "  [40.824294, 140.74005400000001, 1308000],\n",
       "  [39.70353, 141.15266699999998, 1280000],\n",
       "  [38.268737, 140.872183, 2334000],\n",
       "  [39.718175, 140.10335600000002, 1023000],\n",
       "  [38.240127, 140.362533, 1124000],\n",
       "  [37.750146, 140.466754, 1914000],\n",
       "  [36.341817, 140.446796, 2917000],\n",
       "  [36.56575, 139.883526, 1974000],\n",
       "  [36.391205, 139.060917, 1973000],\n",
       "  [35.857771, 139.647804, 7267000],\n",
       "  [35.604563, 140.123179, 6223000],\n",
       "  [35.689184999999995, 139.691648, 13515000],\n",
       "  [35.447505, 139.642347, 9126000],\n",
       "  [37.901699, 139.022728, 2304000],\n",
       "  [36.695274, 137.211302, 1066000],\n",
       "  [36.594729, 136.62555, 1154000],\n",
       "  [36.065220000000004, 136.221641, 787000],\n",
       "  [35.665102000000005, 138.568985, 835000],\n",
       "  [36.651282, 138.180972, 2099000],\n",
       "  [35.39116, 136.722204, 2032000],\n",
       "  [34.976987, 138.383057, 3700000],\n",
       "  [35.180246999999994, 136.906698, 7483000],\n",
       "  [34.730546999999994, 136.50861, 1816000],\n",
       "  [35.004532, 135.868588, 1413000],\n",
       "  [35.020996200000006, 135.7531135, 2610000],\n",
       "  [34.686492, 135.518992, 8839000],\n",
       "  [34.69128, 135.183087, 5535000],\n",
       "  [34.685296, 135.832745, 1364000],\n",
       "  [34.224806, 135.16795, 964000],\n",
       "  [35.503463, 134.238258, 573000],\n",
       "  [35.472248, 133.05083, 694000],\n",
       "  [34.66132, 133.934414, 1922000],\n",
       "  [34.396033, 132.459595, 2844000],\n",
       "  [34.185648, 131.470755, 1405000],\n",
       "  [34.065732000000004, 134.559293, 756000],\n",
       "  [34.340140000000005, 134.04297, 976000],\n",
       "  [33.841649, 132.76585, 1385000],\n",
       "  [33.55969, 133.530887, 728000],\n",
       "  [33.606767, 130.418228, 5102000],\n",
       "  [33.249367, 130.298822, 833000],\n",
       "  [32.744541999999996, 129.873037, 1377000],\n",
       "  [32.790385, 130.742345, 1786000],\n",
       "  [33.2382, 131.612674, 1166000],\n",
       "  [31.91109, 131.423855, 1104000],\n",
       "  [31.560219, 130.557906, 1648000],\n",
       "  [26.211538, 127.68111499999999, 1434000]],\n",
       " [[43.064359, 141.347449, 5352000],\n",
       "  [40.824294, 140.74005400000001, 1293000],\n",
       "  [39.70353, 141.15266699999998, 1268000],\n",
       "  [38.268737, 140.872183, 2330000],\n",
       "  [39.718175, 140.10335600000002, 1010000],\n",
       "  [38.240127, 140.362533, 1113000],\n",
       "  [37.750146, 140.466754, 1901000],\n",
       "  [36.341817, 140.446796, 2905000],\n",
       "  [36.56575, 139.883526, 1966000],\n",
       "  [36.391205, 139.060917, 1967000],\n",
       "  [35.857771, 139.647804, 7289000],\n",
       "  [35.604563, 140.123179, 6236000],\n",
       "  [35.689184999999995, 139.691648, 13624000],\n",
       "  [35.447505, 139.642347, 9145000],\n",
       "  [37.901699, 139.022728, 2286000],\n",
       "  [36.695274, 137.211302, 1061000],\n",
       "  [36.594729, 136.62555, 1151000],\n",
       "  [36.065220000000004, 136.221641, 782000],\n",
       "  [35.665102000000005, 138.568985, 830000],\n",
       "  [36.651282, 138.180972, 2088000],\n",
       "  [35.39116, 136.722204, 2022000],\n",
       "  [34.976987, 138.383057, 3688000],\n",
       "  [35.180246999999994, 136.906698, 7507000],\n",
       "  [34.730546999999994, 136.50861, 1808000],\n",
       "  [35.004532, 135.868588, 1413000],\n",
       "  [35.020996200000006, 135.7531135, 2605000],\n",
       "  [34.686492, 135.518992, 8833000],\n",
       "  [34.69128, 135.183087, 5520000],\n",
       "  [34.685296, 135.832745, 1356000],\n",
       "  [34.224806, 135.16795, 954000],\n",
       "  [35.503463, 134.238258, 570000],\n",
       "  [35.472248, 133.05083, 690000],\n",
       "  [34.66132, 133.934414, 1915000],\n",
       "  [34.396033, 132.459595, 2837000],\n",
       "  [34.185648, 131.470755, 1394000],\n",
       "  [34.065732000000004, 134.559293, 750000],\n",
       "  [34.340140000000005, 134.04297, 972000],\n",
       "  [33.841649, 132.76585, 1375000],\n",
       "  [33.55969, 133.530887, 721000],\n",
       "  [33.606767, 130.418228, 5104000],\n",
       "  [33.249367, 130.298822, 828000],\n",
       "  [32.744541999999996, 129.873037, 1367000],\n",
       "  [32.790385, 130.742345, 1774000],\n",
       "  [33.2382, 131.612674, 1160000],\n",
       "  [31.91109, 131.423855, 1096000],\n",
       "  [31.560219, 130.557906, 1637000],\n",
       "  [26.211538, 127.68111499999999, 1439000]],\n",
       " [[43.064359, 141.347449, 5320000],\n",
       "  [40.824294, 140.74005400000001, 1278000],\n",
       "  [39.70353, 141.15266699999998, 1255000],\n",
       "  [38.268737, 140.872183, 2323000],\n",
       "  [39.718175, 140.10335600000002, 996000],\n",
       "  [38.240127, 140.362533, 1102000],\n",
       "  [37.750146, 140.466754, 1882000],\n",
       "  [36.341817, 140.446796, 2892000],\n",
       "  [36.56575, 139.883526, 1957000],\n",
       "  [36.391205, 139.060917, 1960000],\n",
       "  [35.857771, 139.647804, 7310000],\n",
       "  [35.604563, 140.123179, 6246000],\n",
       "  [35.689184999999995, 139.691648, 13724000],\n",
       "  [35.447505, 139.642347, 9159000],\n",
       "  [37.901699, 139.022728, 2267000],\n",
       "  [36.695274, 137.211302, 1056000],\n",
       "  [36.594729, 136.62555, 1147000],\n",
       "  [36.065220000000004, 136.221641, 779000],\n",
       "  [35.665102000000005, 138.568985, 823000],\n",
       "  [36.651282, 138.180972, 2076000],\n",
       "  [35.39116, 136.722204, 2008000],\n",
       "  [34.976987, 138.383057, 3675000],\n",
       "  [35.180246999999994, 136.906698, 7525000],\n",
       "  [34.730546999999994, 136.50861, 1800000],\n",
       "  [35.004532, 135.868588, 1413000],\n",
       "  [35.020996200000006, 135.7531135, 2599000],\n",
       "  [34.686492, 135.518992, 8823000],\n",
       "  [34.69128, 135.183087, 5503000],\n",
       "  [34.685296, 135.832745, 1348000],\n",
       "  [34.224806, 135.16795, 945000],\n",
       "  [35.503463, 134.238258, 565000],\n",
       "  [35.472248, 133.05083, 685000],\n",
       "  [34.66132, 133.934414, 1907000],\n",
       "  [34.396033, 132.459595, 2829000],\n",
       "  [34.185648, 131.470755, 1383000],\n",
       "  [34.065732000000004, 134.559293, 743000],\n",
       "  [34.340140000000005, 134.04297, 967000],\n",
       "  [33.841649, 132.76585, 1364000],\n",
       "  [33.55969, 133.530887, 714000],\n",
       "  [33.606767, 130.418228, 5107000],\n",
       "  [33.249367, 130.298822, 824000],\n",
       "  [32.744541999999996, 129.873037, 1354000],\n",
       "  [32.790385, 130.742345, 1765000],\n",
       "  [33.2382, 131.612674, 1152000],\n",
       "  [31.91109, 131.423855, 1089000],\n",
       "  [31.560219, 130.557906, 1626000],\n",
       "  [26.211538, 127.68111499999999, 1443000]]]"
      ]
     },
     "execution_count": 38,
     "metadata": {},
     "output_type": "execute_result"
    }
   ],
   "source": [
    "heat_data"
   ]
  },
  {
   "cell_type": "code",
   "execution_count": 40,
   "metadata": {},
   "outputs": [
    {
     "data": {
      "text/html": [
       "<div style=\"width:100%;\"><div style=\"position:relative;width:100%;height:0;padding-bottom:60%;\"><iframe src=\"data:text/html;charset=utf-8;base64,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\" style=\"position:absolute;width:100%;height:100%;left:0;top:0;border:none !important;\" allowfullscreen webkitallowfullscreen mozallowfullscreen></iframe></div></div>"
      ],
      "text/plain": [
       "<folium.folium.Map at 0x11f6d4940>"
      ]
     },
     "execution_count": 40,
     "metadata": {},
     "output_type": "execute_result"
    }
   ],
   "source": [
    "japan_map = folium.Map(location=[35, 135], zoom_start=6)\n",
    "hm = plugins.HeatMapWithTime(heat_data,index=[\"平成\"+year+\"年\" for year in time_series],auto_play=False,radius=40,max_opacity=1,gradient={0.1: 'blue', 0.25: 'lime', 0.5:'yellow',0.75: 'red'})\n",
    "hm.add_to(japan_map)\n",
    "japan_map"
   ]
  },
  {
   "cell_type": "code",
   "execution_count": null,
   "metadata": {},
   "outputs": [],
   "source": []
  }
 ],
 "metadata": {
  "kernelspec": {
   "display_name": "Python 3",
   "language": "python",
   "name": "python3"
  },
  "language_info": {
   "codemirror_mode": {
    "name": "ipython",
    "version": 3
   },
   "file_extension": ".py",
   "mimetype": "text/x-python",
   "name": "python",
   "nbconvert_exporter": "python",
   "pygments_lexer": "ipython3",
   "version": "3.7.3"
  }
 },
 "nbformat": 4,
 "nbformat_minor": 4
}
