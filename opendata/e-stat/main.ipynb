{
 "cells": [
  {
   "cell_type": "code",
   "execution_count": 103,
   "metadata": {},
   "outputs": [],
   "source": [
    "import requests\n",
    "import json\n",
    "import pandas as pd"
   ]
  },
  {
   "cell_type": "markdown",
   "metadata": {},
   "source": [
    "# reference: \n",
    "#### https://sammi-baba.hatenablog.com/entry/2018/12/25/074017  \n",
    "#### http://www.ie110704.net/2016/11/11/e-stat-api%E3%82%92python%E3%81%8B%E3%82%89%E4%BD%BF%E3%81%A3%E3%81%A6%E5%9C%B0%E7%90%86%E3%83%87%E3%83%BC%E3%82%BF%E3%82%92%E5%8F%AF%E8%A6%96%E5%8C%96%E3%81%97%E3%81%A6%E3%81%BF%E3%81%9F/\n",
    "#### https://medium.com/@rode89/pandas%E8%A6%9A%E6%9B%B8-52252df4c231"
   ]
  },
  {
   "cell_type": "code",
   "execution_count": 104,
   "metadata": {},
   "outputs": [],
   "source": [
    "with open(\"api_key.json\", \"r\") as f:\n",
    "    appid = f.read()"
   ]
  },
  {
   "cell_type": "code",
   "execution_count": 105,
   "metadata": {},
   "outputs": [],
   "source": [
    "appid = appid.replace(\"\\n\", \"\")"
   ]
  },
  {
   "cell_type": "code",
   "execution_count": 106,
   "metadata": {},
   "outputs": [
    {
     "data": {
      "text/plain": [
       "'30fb7abec39a136d4c54d1ec77a593c09221603f'"
      ]
     },
     "execution_count": 106,
     "metadata": {},
     "output_type": "execute_result"
    }
   ],
   "source": [
    "appid"
   ]
  },
  {
   "cell_type": "code",
   "execution_count": 107,
   "metadata": {},
   "outputs": [],
   "source": [
    "#appid = \"###################################\"\n",
    "api_version = \"2.1\"\n",
    "base_url = \"http://api.e-stat.go.jp/rest/{api_version}/app/json/\".format(api_version=api_version)\n",
    "\n",
    "\n",
    "\n",
    "#get_type=\"getSimpleStatsData\"\n",
    "get_type=\"getStatsData\"\n",
    "#get_type=\"refDataset\"\n",
    "stats_data_id=\"0003215844\"\n",
    "#cd_cat_01=\"0000\" # 国籍->全て\n",
    "#cd_cat_02=\"0000\" # 性別->男女\n",
    "#cd_cat_03=\"00710\" # 集計地域->全域\n",
    "lv_area=\"2\" # 集計レベル->都道府県レベル\n",
    "section_header_flg=\"2\" # セクションヘッダー->無し\n",
    "\n",
    "\n",
    "\n",
    "url = base_url + \"{get_type}?\\\n",
    "appId={appid}&\\\n",
    "statsDataId={stats_data_id}&\\\n",
    "lvArea={lv_area}&\\\n",
    "sectionHeaderFlg={section_header_flg}\".format(\n",
    "        get_type=get_type,\n",
    "        appid=appid,\n",
    "        stats_data_id=stats_data_id,\n",
    "        #cd_cat_01=cd_cat_01,\n",
    "        #cd_cat_02=cd_cat_02,\n",
    "        #cd_cat_03=cd_cat_03,\n",
    "        lv_area=lv_area,\n",
    "        section_header_flg=section_header_flg\n",
    "        )\n",
    "\n",
    "# cdCat01={cd_cat_01}&cdCat02={cd_cat_02}&cdCat03={cd_cat_03}&\\"
   ]
  },
  {
   "cell_type": "code",
   "execution_count": 108,
   "metadata": {},
   "outputs": [],
   "source": [
    "#url = \"http://api.e-stat.go.jp/rest/2.1/app/json/getStatsData?appId={}&lang=J&statsDataId=0003215844&metaGetFlg=N&cntGetFlg=N&sectionHeaderFlg=2\".format(api_key)\n",
    "res = requests.get(url)"
   ]
  },
  {
   "cell_type": "code",
   "execution_count": 109,
   "metadata": {},
   "outputs": [
    {
     "data": {
      "text/plain": [
       "<Response [200]>"
      ]
     },
     "execution_count": 109,
     "metadata": {},
     "output_type": "execute_result"
    }
   ],
   "source": [
    "res"
   ]
  },
  {
   "cell_type": "code",
   "execution_count": 110,
   "metadata": {},
   "outputs": [],
   "source": [
    "res = res.json()"
   ]
  },
  {
   "cell_type": "code",
   "execution_count": 111,
   "metadata": {},
   "outputs": [],
   "source": [
    "#res2 = json.loads(res.text)\n",
    "#assert res1 == res2"
   ]
  },
  {
   "cell_type": "code",
   "execution_count": 112,
   "metadata": {},
   "outputs": [],
   "source": [
    "def simple_parser(dic, tag):\n",
    "    res = []\n",
    "    for k,v in dic.items():\n",
    "        if k == tag:\n",
    "            res.append(v)\n",
    "            return res\n",
    "        elif isinstance(v, dict):\n",
    "            for r in simple_parser(v, tag):\n",
    "                res.append(r)\n",
    "        else:\n",
    "            []\n",
    "    return res"
   ]
  },
  {
   "cell_type": "code",
   "execution_count": 113,
   "metadata": {},
   "outputs": [],
   "source": [
    "values = simple_parser(res, \"VALUE\")[0] # list of dict_type objects"
   ]
  },
  {
   "cell_type": "code",
   "execution_count": 114,
   "metadata": {},
   "outputs": [
    {
     "data": {
      "text/plain": [
       "[{'@tab': '001',\n",
       "  '@cat01': '000',\n",
       "  '@cat02': '001',\n",
       "  '@area': '01000',\n",
       "  '@time': '2005000000',\n",
       "  '@unit': '千人',\n",
       "  '$': '5628'},\n",
       " {'@tab': '001',\n",
       "  '@cat01': '000',\n",
       "  '@cat02': '001',\n",
       "  '@area': '01000',\n",
       "  '@time': '2010000000',\n",
       "  '@unit': '千人',\n",
       "  '$': '5506'}]"
      ]
     },
     "execution_count": 114,
     "metadata": {},
     "output_type": "execute_result"
    }
   ],
   "source": [
    "values[:2]"
   ]
  },
  {
   "cell_type": "code",
   "execution_count": 115,
   "metadata": {},
   "outputs": [],
   "source": [
    "class_obj = simple_parser(res, \"CLASS_OBJ\")[0]"
   ]
  },
  {
   "cell_type": "code",
   "execution_count": 116,
   "metadata": {},
   "outputs": [
    {
     "data": {
      "text/plain": [
       "[{'@id': 'tab',\n",
       "  '@name': '表章項目',\n",
       "  'CLASS': {'@code': '001', '@name': '人口', '@level': '', '@unit': '千人'}},\n",
       " {'@id': 'cat01',\n",
       "  '@name': '男女別',\n",
       "  'CLASS': [{'@code': '000', '@name': '男女計', '@level': '1'},\n",
       "   {'@code': '001', '@name': '男', '@level': '1'},\n",
       "   {'@code': '002', '@name': '女', '@level': '1'}]},\n",
       " {'@id': 'cat02',\n",
       "  '@name': '人口',\n",
       "  'CLASS': [{'@code': '001', '@name': '総人口', '@level': '1'},\n",
       "   {'@code': '002', '@name': '日本人人口', '@level': '1'}]},\n",
       " {'@id': 'area',\n",
       "  '@name': '全国・都道府県',\n",
       "  'CLASS': [{'@code': '01000', '@name': '北海道', '@level': '2'},\n",
       "   {'@code': '02000', '@name': '青森県', '@level': '2'},\n",
       "   {'@code': '03000', '@name': '岩手県', '@level': '2'},\n",
       "   {'@code': '04000', '@name': '宮城県', '@level': '2'},\n",
       "   {'@code': '05000', '@name': '秋田県', '@level': '2'},\n",
       "   {'@code': '06000', '@name': '山形県', '@level': '2'},\n",
       "   {'@code': '07000', '@name': '福島県', '@level': '2'},\n",
       "   {'@code': '08000', '@name': '茨城県', '@level': '2'},\n",
       "   {'@code': '09000', '@name': '栃木県', '@level': '2'},\n",
       "   {'@code': '10000', '@name': '群馬県', '@level': '2'},\n",
       "   {'@code': '11000', '@name': '埼玉県', '@level': '2'},\n",
       "   {'@code': '12000', '@name': '千葉県', '@level': '2'},\n",
       "   {'@code': '13000', '@name': '東京都', '@level': '2'},\n",
       "   {'@code': '14000', '@name': '神奈川県', '@level': '2'},\n",
       "   {'@code': '15000', '@name': '新潟県', '@level': '2'},\n",
       "   {'@code': '16000', '@name': '富山県', '@level': '2'},\n",
       "   {'@code': '17000', '@name': '石川県', '@level': '2'},\n",
       "   {'@code': '18000', '@name': '福井県', '@level': '2'},\n",
       "   {'@code': '19000', '@name': '山梨県', '@level': '2'},\n",
       "   {'@code': '20000', '@name': '長野県', '@level': '2'},\n",
       "   {'@code': '21000', '@name': '岐阜県', '@level': '2'},\n",
       "   {'@code': '22000', '@name': '静岡県', '@level': '2'},\n",
       "   {'@code': '23000', '@name': '愛知県', '@level': '2'},\n",
       "   {'@code': '24000', '@name': '三重県', '@level': '2'},\n",
       "   {'@code': '25000', '@name': '滋賀県', '@level': '2'},\n",
       "   {'@code': '26000', '@name': '京都府', '@level': '2'},\n",
       "   {'@code': '27000', '@name': '大阪府', '@level': '2'},\n",
       "   {'@code': '28000', '@name': '兵庫県', '@level': '2'},\n",
       "   {'@code': '29000', '@name': '奈良県', '@level': '2'},\n",
       "   {'@code': '30000', '@name': '和歌山県', '@level': '2'},\n",
       "   {'@code': '31000', '@name': '鳥取県', '@level': '2'},\n",
       "   {'@code': '32000', '@name': '島根県', '@level': '2'},\n",
       "   {'@code': '33000', '@name': '岡山県', '@level': '2'},\n",
       "   {'@code': '34000', '@name': '広島県', '@level': '2'},\n",
       "   {'@code': '35000', '@name': '山口県', '@level': '2'},\n",
       "   {'@code': '36000', '@name': '徳島県', '@level': '2'},\n",
       "   {'@code': '37000', '@name': '香川県', '@level': '2'},\n",
       "   {'@code': '38000', '@name': '愛媛県', '@level': '2'},\n",
       "   {'@code': '39000', '@name': '高知県', '@level': '2'},\n",
       "   {'@code': '40000', '@name': '福岡県', '@level': '2'},\n",
       "   {'@code': '41000', '@name': '佐賀県', '@level': '2'},\n",
       "   {'@code': '42000', '@name': '長崎県', '@level': '2'},\n",
       "   {'@code': '43000', '@name': '熊本県', '@level': '2'},\n",
       "   {'@code': '44000', '@name': '大分県', '@level': '2'},\n",
       "   {'@code': '45000', '@name': '宮崎県', '@level': '2'},\n",
       "   {'@code': '46000', '@name': '鹿児島県', '@level': '2'},\n",
       "   {'@code': '47000', '@name': '沖縄県', '@level': '2'}]},\n",
       " {'@id': 'time',\n",
       "  '@name': '時間軸（年）',\n",
       "  'CLASS': [{'@code': '2005000000', '@name': '平成17年', '@level': '1'},\n",
       "   {'@code': '2010000000', '@name': '平成22年', '@level': '1'},\n",
       "   {'@code': '2015000000', '@name': '平成27年', '@level': '1'},\n",
       "   {'@code': '2016000000', '@name': '平成28年', '@level': '1'},\n",
       "   {'@code': '2017000000', '@name': '平成29年', '@level': '1'}]}]"
      ]
     },
     "execution_count": 116,
     "metadata": {},
     "output_type": "execute_result"
    }
   ],
   "source": [
    "class_obj"
   ]
  },
  {
   "cell_type": "code",
   "execution_count": 117,
   "metadata": {},
   "outputs": [
    {
     "data": {
      "text/plain": [
       "'男女別'"
      ]
     },
     "execution_count": 117,
     "metadata": {},
     "output_type": "execute_result"
    }
   ],
   "source": [
    "cat01 = class_obj[1][\"@name\"] #column name\n",
    "cat01"
   ]
  },
  {
   "cell_type": "code",
   "execution_count": 118,
   "metadata": {},
   "outputs": [
    {
     "data": {
      "text/plain": [
       "'人口'"
      ]
     },
     "execution_count": 118,
     "metadata": {},
     "output_type": "execute_result"
    }
   ],
   "source": [
    "cat02 = class_obj[2][\"@name\"] #column name\n",
    "cat02"
   ]
  },
  {
   "cell_type": "code",
   "execution_count": 119,
   "metadata": {},
   "outputs": [
    {
     "data": {
      "text/plain": [
       "'全国・都道府県'"
      ]
     },
     "execution_count": 119,
     "metadata": {},
     "output_type": "execute_result"
    }
   ],
   "source": [
    "cat03 = class_obj[3][\"@name\"]\n",
    "cat03"
   ]
  },
  {
   "cell_type": "code",
   "execution_count": 120,
   "metadata": {},
   "outputs": [
    {
     "data": {
      "text/plain": [
       "'時間軸（年）'"
      ]
     },
     "execution_count": 120,
     "metadata": {},
     "output_type": "execute_result"
    }
   ],
   "source": [
    "cat04 = class_obj[4][\"@name\"]\n",
    "cat04"
   ]
  },
  {
   "cell_type": "code",
   "execution_count": 121,
   "metadata": {},
   "outputs": [],
   "source": [
    "col_info = {\"@cat01\":cat01, \"@cat02\":cat02, \"@area\":cat03, \"@time\":cat04 ,\"$\":\"千人\"}\n",
    "\n",
    "cat01_map = {d[\"@code\"]:d[\"@name\"] for d in class_obj[1][\"CLASS\"]}\n",
    "cat02_map = {d[\"@code\"]:d[\"@name\"] for d in class_obj[2][\"CLASS\"]}\n",
    "cat03_map = {d[\"@code\"]:d[\"@name\"] for d in class_obj[3][\"CLASS\"]}\n",
    "cat04_map = {d[\"@code\"]:d[\"@name\"] for d in class_obj[4][\"CLASS\"]}\n",
    "\n",
    "df = pd.DataFrame(values, columns=[\"@cat01\", \"@cat02\", \"@area\", \"@time\", \"$\"]).rename(columns=col_info)\n",
    "\n",
    "df[cat01] = df[cat01].map(cat01_map)\n",
    "df[cat02] = df[cat02].map(cat02_map)\n",
    "df[cat03] = df[cat03].map(cat03_map)\n",
    "df[cat04] = df[cat04].map(cat04_map)"
   ]
  },
  {
   "cell_type": "code",
   "execution_count": 122,
   "metadata": {},
   "outputs": [],
   "source": [
    "df = df[(df[\"男女別\"]==\"男女計\")&(df[\"人口\"]==\"総人口\")]"
   ]
  },
  {
   "cell_type": "code",
   "execution_count": 123,
   "metadata": {},
   "outputs": [],
   "source": [
    "df = df[[\"時間軸（年）\", \"全国・都道府県\", \"千人\"]]"
   ]
  },
  {
   "cell_type": "code",
   "execution_count": 124,
   "metadata": {},
   "outputs": [],
   "source": [
    "df[\"千人\"] = df[\"千人\"].apply(lambda x: int(x)*1000)"
   ]
  },
  {
   "cell_type": "code",
   "execution_count": 125,
   "metadata": {},
   "outputs": [],
   "source": [
    "df.rename(columns={\"千人\":\"人口\", \"時間軸（年）\":\"年\"}, inplace=True)"
   ]
  },
  {
   "cell_type": "code",
   "execution_count": 126,
   "metadata": {},
   "outputs": [
    {
     "data": {
      "text/html": [
       "<div>\n",
       "<style scoped>\n",
       "    .dataframe tbody tr th:only-of-type {\n",
       "        vertical-align: middle;\n",
       "    }\n",
       "\n",
       "    .dataframe tbody tr th {\n",
       "        vertical-align: top;\n",
       "    }\n",
       "\n",
       "    .dataframe thead th {\n",
       "        text-align: right;\n",
       "    }\n",
       "</style>\n",
       "<table border=\"1\" class=\"dataframe\">\n",
       "  <thead>\n",
       "    <tr style=\"text-align: right;\">\n",
       "      <th></th>\n",
       "      <th>年</th>\n",
       "      <th>全国・都道府県</th>\n",
       "      <th>人口</th>\n",
       "    </tr>\n",
       "  </thead>\n",
       "  <tbody>\n",
       "    <tr>\n",
       "      <th>0</th>\n",
       "      <td>平成17年</td>\n",
       "      <td>北海道</td>\n",
       "      <td>5628000</td>\n",
       "    </tr>\n",
       "    <tr>\n",
       "      <th>1</th>\n",
       "      <td>平成22年</td>\n",
       "      <td>北海道</td>\n",
       "      <td>5506000</td>\n",
       "    </tr>\n",
       "    <tr>\n",
       "      <th>2</th>\n",
       "      <td>平成27年</td>\n",
       "      <td>北海道</td>\n",
       "      <td>5382000</td>\n",
       "    </tr>\n",
       "    <tr>\n",
       "      <th>3</th>\n",
       "      <td>平成28年</td>\n",
       "      <td>北海道</td>\n",
       "      <td>5352000</td>\n",
       "    </tr>\n",
       "    <tr>\n",
       "      <th>4</th>\n",
       "      <td>平成29年</td>\n",
       "      <td>北海道</td>\n",
       "      <td>5320000</td>\n",
       "    </tr>\n",
       "    <tr>\n",
       "      <th>5</th>\n",
       "      <td>平成17年</td>\n",
       "      <td>青森県</td>\n",
       "      <td>1437000</td>\n",
       "    </tr>\n",
       "    <tr>\n",
       "      <th>6</th>\n",
       "      <td>平成22年</td>\n",
       "      <td>青森県</td>\n",
       "      <td>1373000</td>\n",
       "    </tr>\n",
       "    <tr>\n",
       "      <th>7</th>\n",
       "      <td>平成27年</td>\n",
       "      <td>青森県</td>\n",
       "      <td>1308000</td>\n",
       "    </tr>\n",
       "    <tr>\n",
       "      <th>8</th>\n",
       "      <td>平成28年</td>\n",
       "      <td>青森県</td>\n",
       "      <td>1293000</td>\n",
       "    </tr>\n",
       "    <tr>\n",
       "      <th>9</th>\n",
       "      <td>平成29年</td>\n",
       "      <td>青森県</td>\n",
       "      <td>1278000</td>\n",
       "    </tr>\n",
       "    <tr>\n",
       "      <th>10</th>\n",
       "      <td>平成17年</td>\n",
       "      <td>岩手県</td>\n",
       "      <td>1385000</td>\n",
       "    </tr>\n",
       "    <tr>\n",
       "      <th>11</th>\n",
       "      <td>平成22年</td>\n",
       "      <td>岩手県</td>\n",
       "      <td>1330000</td>\n",
       "    </tr>\n",
       "    <tr>\n",
       "      <th>12</th>\n",
       "      <td>平成27年</td>\n",
       "      <td>岩手県</td>\n",
       "      <td>1280000</td>\n",
       "    </tr>\n",
       "    <tr>\n",
       "      <th>13</th>\n",
       "      <td>平成28年</td>\n",
       "      <td>岩手県</td>\n",
       "      <td>1268000</td>\n",
       "    </tr>\n",
       "    <tr>\n",
       "      <th>14</th>\n",
       "      <td>平成29年</td>\n",
       "      <td>岩手県</td>\n",
       "      <td>1255000</td>\n",
       "    </tr>\n",
       "    <tr>\n",
       "      <th>15</th>\n",
       "      <td>平成17年</td>\n",
       "      <td>宮城県</td>\n",
       "      <td>2360000</td>\n",
       "    </tr>\n",
       "    <tr>\n",
       "      <th>16</th>\n",
       "      <td>平成22年</td>\n",
       "      <td>宮城県</td>\n",
       "      <td>2348000</td>\n",
       "    </tr>\n",
       "    <tr>\n",
       "      <th>17</th>\n",
       "      <td>平成27年</td>\n",
       "      <td>宮城県</td>\n",
       "      <td>2334000</td>\n",
       "    </tr>\n",
       "    <tr>\n",
       "      <th>18</th>\n",
       "      <td>平成28年</td>\n",
       "      <td>宮城県</td>\n",
       "      <td>2330000</td>\n",
       "    </tr>\n",
       "    <tr>\n",
       "      <th>19</th>\n",
       "      <td>平成29年</td>\n",
       "      <td>宮城県</td>\n",
       "      <td>2323000</td>\n",
       "    </tr>\n",
       "  </tbody>\n",
       "</table>\n",
       "</div>"
      ],
      "text/plain": [
       "        年 全国・都道府県       人口\n",
       "0   平成17年     北海道  5628000\n",
       "1   平成22年     北海道  5506000\n",
       "2   平成27年     北海道  5382000\n",
       "3   平成28年     北海道  5352000\n",
       "4   平成29年     北海道  5320000\n",
       "5   平成17年     青森県  1437000\n",
       "6   平成22年     青森県  1373000\n",
       "7   平成27年     青森県  1308000\n",
       "8   平成28年     青森県  1293000\n",
       "9   平成29年     青森県  1278000\n",
       "10  平成17年     岩手県  1385000\n",
       "11  平成22年     岩手県  1330000\n",
       "12  平成27年     岩手県  1280000\n",
       "13  平成28年     岩手県  1268000\n",
       "14  平成29年     岩手県  1255000\n",
       "15  平成17年     宮城県  2360000\n",
       "16  平成22年     宮城県  2348000\n",
       "17  平成27年     宮城県  2334000\n",
       "18  平成28年     宮城県  2330000\n",
       "19  平成29年     宮城県  2323000"
      ]
     },
     "execution_count": 126,
     "metadata": {},
     "output_type": "execute_result"
    }
   ],
   "source": [
    "df.head(20)"
   ]
  }
 ],
 "metadata": {
  "kernelspec": {
   "display_name": "Python 3",
   "language": "python",
   "name": "python3"
  },
  "language_info": {
   "codemirror_mode": {
    "name": "ipython",
    "version": 3
   },
   "file_extension": ".py",
   "mimetype": "text/x-python",
   "name": "python",
   "nbconvert_exporter": "python",
   "pygments_lexer": "ipython3",
   "version": "3.7.3"
  }
 },
 "nbformat": 4,
 "nbformat_minor": 4
}
