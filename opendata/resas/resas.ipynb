{
 "cells": [
  {
   "cell_type": "code",
   "execution_count": 1,
   "metadata": {},
   "outputs": [
    {
     "name": "stdout",
     "output_type": "stream",
     "text": [
      "Collecting resaspy\n",
      "  Downloading https://files.pythonhosted.org/packages/78/ba/650623416b6c9185aa6f5972471f2befeba26d68df2185df8427682eaf12/resaspy-0.2.1.tar.gz\n",
      "Requirement already satisfied: requests in /anaconda/envs/dsw/lib/python3.7/site-packages (from resaspy) (2.22.0)\n",
      "Collecting requests-cache (from resaspy)\n",
      "  Downloading https://files.pythonhosted.org/packages/7f/55/9b1c40eb83c16d8fc79c5f6c2ffade04208b080670fbfc35e0a5effb5a92/requests_cache-0.5.2-py2.py3-none-any.whl\n",
      "Requirement already satisfied: urllib3!=1.25.0,!=1.25.1,<1.26,>=1.21.1 in /anaconda/envs/dsw/lib/python3.7/site-packages (from requests->resaspy) (1.24.2)\n",
      "Requirement already satisfied: certifi>=2017.4.17 in /anaconda/envs/dsw/lib/python3.7/site-packages (from requests->resaspy) (2019.6.16)\n",
      "Requirement already satisfied: idna<2.9,>=2.5 in /anaconda/envs/dsw/lib/python3.7/site-packages (from requests->resaspy) (2.8)\n",
      "Requirement already satisfied: chardet<3.1.0,>=3.0.2 in /anaconda/envs/dsw/lib/python3.7/site-packages (from requests->resaspy) (3.0.4)\n",
      "Building wheels for collected packages: resaspy\n",
      "  Building wheel for resaspy (setup.py) ... \u001b[?25ldone\n",
      "\u001b[?25h  Stored in directory: /Users/riow/Library/Caches/pip/wheels/ef/59/a6/106aba5c2925021512b3c58363bfa2c843118d26f308317bf8\n",
      "Successfully built resaspy\n",
      "Installing collected packages: requests-cache, resaspy\n",
      "Successfully installed requests-cache-0.5.2 resaspy-0.2.1\n"
     ]
    }
   ],
   "source": [
    "#!pip install resaspy"
   ]
  },
  {
   "cell_type": "code",
   "execution_count": 2,
   "metadata": {},
   "outputs": [
    {
     "name": "stdout",
     "output_type": "stream",
     "text": [
      "apikey.txt  resas.ipynb\r\n"
     ]
    }
   ],
   "source": [
    "!ls"
   ]
  },
  {
   "cell_type": "code",
   "execution_count": 8,
   "metadata": {},
   "outputs": [],
   "source": [
    "f = open(\"apikey.txt\", \"r\")\n",
    "api_key = f.read()\n",
    "f.close()"
   ]
  },
  {
   "cell_type": "code",
   "execution_count": 12,
   "metadata": {},
   "outputs": [
    {
     "data": {
      "text/plain": [
       "{'message': None,\n",
       " 'result': [{'prefCode': 1, 'prefName': '北海道'},\n",
       "  {'prefCode': 2, 'prefName': '青森県'},\n",
       "  {'prefCode': 3, 'prefName': '岩手県'},\n",
       "  {'prefCode': 4, 'prefName': '宮城県'},\n",
       "  {'prefCode': 5, 'prefName': '秋田県'},\n",
       "  {'prefCode': 6, 'prefName': '山形県'},\n",
       "  {'prefCode': 7, 'prefName': '福島県'},\n",
       "  {'prefCode': 8, 'prefName': '茨城県'},\n",
       "  {'prefCode': 9, 'prefName': '栃木県'},\n",
       "  {'prefCode': 10, 'prefName': '群馬県'},\n",
       "  {'prefCode': 11, 'prefName': '埼玉県'},\n",
       "  {'prefCode': 12, 'prefName': '千葉県'},\n",
       "  {'prefCode': 13, 'prefName': '東京都'},\n",
       "  {'prefCode': 14, 'prefName': '神奈川県'},\n",
       "  {'prefCode': 15, 'prefName': '新潟県'},\n",
       "  {'prefCode': 16, 'prefName': '富山県'},\n",
       "  {'prefCode': 17, 'prefName': '石川県'},\n",
       "  {'prefCode': 18, 'prefName': '福井県'},\n",
       "  {'prefCode': 19, 'prefName': '山梨県'},\n",
       "  {'prefCode': 20, 'prefName': '長野県'},\n",
       "  {'prefCode': 21, 'prefName': '岐阜県'},\n",
       "  {'prefCode': 22, 'prefName': '静岡県'},\n",
       "  {'prefCode': 23, 'prefName': '愛知県'},\n",
       "  {'prefCode': 24, 'prefName': '三重県'},\n",
       "  {'prefCode': 25, 'prefName': '滋賀県'},\n",
       "  {'prefCode': 26, 'prefName': '京都府'},\n",
       "  {'prefCode': 27, 'prefName': '大阪府'},\n",
       "  {'prefCode': 28, 'prefName': '兵庫県'},\n",
       "  {'prefCode': 29, 'prefName': '奈良県'},\n",
       "  {'prefCode': 30, 'prefName': '和歌山県'},\n",
       "  {'prefCode': 31, 'prefName': '鳥取県'},\n",
       "  {'prefCode': 32, 'prefName': '島根県'},\n",
       "  {'prefCode': 33, 'prefName': '岡山県'},\n",
       "  {'prefCode': 34, 'prefName': '広島県'},\n",
       "  {'prefCode': 35, 'prefName': '山口県'},\n",
       "  {'prefCode': 36, 'prefName': '徳島県'},\n",
       "  {'prefCode': 37, 'prefName': '香川県'},\n",
       "  {'prefCode': 38, 'prefName': '愛媛県'},\n",
       "  {'prefCode': 39, 'prefName': '高知県'},\n",
       "  {'prefCode': 40, 'prefName': '福岡県'},\n",
       "  {'prefCode': 41, 'prefName': '佐賀県'},\n",
       "  {'prefCode': 42, 'prefName': '長崎県'},\n",
       "  {'prefCode': 43, 'prefName': '熊本県'},\n",
       "  {'prefCode': 44, 'prefName': '大分県'},\n",
       "  {'prefCode': 45, 'prefName': '宮崎県'},\n",
       "  {'prefCode': 46, 'prefName': '鹿児島県'},\n",
       "  {'prefCode': 47, 'prefName': '沖縄県'}]}"
      ]
     },
     "execution_count": 12,
     "metadata": {},
     "output_type": "execute_result"
    }
   ],
   "source": [
    "from resaspy import Resaspy\n",
    "resas_key = api_key\n",
    "resaspy = Resaspy( resas_key )\n",
    "resaspy.prefectures()"
   ]
  }
 ],
 "metadata": {
  "kernelspec": {
   "display_name": "Python 3",
   "language": "python",
   "name": "python3"
  },
  "language_info": {
   "codemirror_mode": {
    "name": "ipython",
    "version": 3
   },
   "file_extension": ".py",
   "mimetype": "text/x-python",
   "name": "python",
   "nbconvert_exporter": "python",
   "pygments_lexer": "ipython3",
   "version": "3.7.3"
  }
 },
 "nbformat": 4,
 "nbformat_minor": 2
}
