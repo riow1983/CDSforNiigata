{
 "cells": [
  {
   "cell_type": "code",
   "execution_count": 1,
   "metadata": {},
   "outputs": [],
   "source": [
    "#!pip install resaspy"
   ]
  },
  {
   "cell_type": "markdown",
   "metadata": {},
   "source": [
    "# Documentation: https://github.com/ar90n/resaspy"
   ]
  },
  {
   "cell_type": "code",
   "execution_count": 2,
   "metadata": {},
   "outputs": [
    {
     "name": "stdout",
     "output_type": "stream",
     "text": [
      "apikey.txt  resas.ipynb\r\n"
     ]
    }
   ],
   "source": [
    "!ls"
   ]
  },
  {
   "cell_type": "code",
   "execution_count": 3,
   "metadata": {},
   "outputs": [],
   "source": [
    "f = open(\"apikey.txt\", \"r\")\n",
    "api_key = f.read()\n",
    "f.close()"
   ]
  },
  {
   "cell_type": "code",
   "execution_count": 4,
   "metadata": {},
   "outputs": [
    {
     "data": {
      "text/plain": [
       "{'message': None,\n",
       " 'result': [{'prefCode': 1, 'prefName': '北海道'},\n",
       "  {'prefCode': 2, 'prefName': '青森県'},\n",
       "  {'prefCode': 3, 'prefName': '岩手県'},\n",
       "  {'prefCode': 4, 'prefName': '宮城県'},\n",
       "  {'prefCode': 5, 'prefName': '秋田県'},\n",
       "  {'prefCode': 6, 'prefName': '山形県'},\n",
       "  {'prefCode': 7, 'prefName': '福島県'},\n",
       "  {'prefCode': 8, 'prefName': '茨城県'},\n",
       "  {'prefCode': 9, 'prefName': '栃木県'},\n",
       "  {'prefCode': 10, 'prefName': '群馬県'},\n",
       "  {'prefCode': 11, 'prefName': '埼玉県'},\n",
       "  {'prefCode': 12, 'prefName': '千葉県'},\n",
       "  {'prefCode': 13, 'prefName': '東京都'},\n",
       "  {'prefCode': 14, 'prefName': '神奈川県'},\n",
       "  {'prefCode': 15, 'prefName': '新潟県'},\n",
       "  {'prefCode': 16, 'prefName': '富山県'},\n",
       "  {'prefCode': 17, 'prefName': '石川県'},\n",
       "  {'prefCode': 18, 'prefName': '福井県'},\n",
       "  {'prefCode': 19, 'prefName': '山梨県'},\n",
       "  {'prefCode': 20, 'prefName': '長野県'},\n",
       "  {'prefCode': 21, 'prefName': '岐阜県'},\n",
       "  {'prefCode': 22, 'prefName': '静岡県'},\n",
       "  {'prefCode': 23, 'prefName': '愛知県'},\n",
       "  {'prefCode': 24, 'prefName': '三重県'},\n",
       "  {'prefCode': 25, 'prefName': '滋賀県'},\n",
       "  {'prefCode': 26, 'prefName': '京都府'},\n",
       "  {'prefCode': 27, 'prefName': '大阪府'},\n",
       "  {'prefCode': 28, 'prefName': '兵庫県'},\n",
       "  {'prefCode': 29, 'prefName': '奈良県'},\n",
       "  {'prefCode': 30, 'prefName': '和歌山県'},\n",
       "  {'prefCode': 31, 'prefName': '鳥取県'},\n",
       "  {'prefCode': 32, 'prefName': '島根県'},\n",
       "  {'prefCode': 33, 'prefName': '岡山県'},\n",
       "  {'prefCode': 34, 'prefName': '広島県'},\n",
       "  {'prefCode': 35, 'prefName': '山口県'},\n",
       "  {'prefCode': 36, 'prefName': '徳島県'},\n",
       "  {'prefCode': 37, 'prefName': '香川県'},\n",
       "  {'prefCode': 38, 'prefName': '愛媛県'},\n",
       "  {'prefCode': 39, 'prefName': '高知県'},\n",
       "  {'prefCode': 40, 'prefName': '福岡県'},\n",
       "  {'prefCode': 41, 'prefName': '佐賀県'},\n",
       "  {'prefCode': 42, 'prefName': '長崎県'},\n",
       "  {'prefCode': 43, 'prefName': '熊本県'},\n",
       "  {'prefCode': 44, 'prefName': '大分県'},\n",
       "  {'prefCode': 45, 'prefName': '宮崎県'},\n",
       "  {'prefCode': 46, 'prefName': '鹿児島県'},\n",
       "  {'prefCode': 47, 'prefName': '沖縄県'}]}"
      ]
     },
     "execution_count": 4,
     "metadata": {},
     "output_type": "execute_result"
    }
   ],
   "source": [
    "from resaspy import Resaspy\n",
    "resas_key = api_key\n",
    "resaspy = Resaspy(resas_key)\n",
    "resaspy.prefectures()"
   ]
  },
  {
   "cell_type": "code",
   "execution_count": 5,
   "metadata": {},
   "outputs": [
    {
     "data": {
      "text/plain": [
       "{'message': None,\n",
       " 'result': [{'prefCode': 1,\n",
       "   'cityCode': '01100',\n",
       "   'cityName': '札幌市',\n",
       "   'bigCityFlag': '2'},\n",
       "  {'prefCode': 1,\n",
       "   'cityCode': '01101',\n",
       "   'cityName': '札幌市中央区',\n",
       "   'bigCityFlag': '1'},\n",
       "  {'prefCode': 1,\n",
       "   'cityCode': '01102',\n",
       "   'cityName': '札幌市北区',\n",
       "   'bigCityFlag': '1'},\n",
       "  {'prefCode': 1,\n",
       "   'cityCode': '01103',\n",
       "   'cityName': '札幌市東区',\n",
       "   'bigCityFlag': '1'},\n",
       "  {'prefCode': 1,\n",
       "   'cityCode': '01104',\n",
       "   'cityName': '札幌市白石区',\n",
       "   'bigCityFlag': '1'},\n",
       "  {'prefCode': 1,\n",
       "   'cityCode': '01105',\n",
       "   'cityName': '札幌市豊平区',\n",
       "   'bigCityFlag': '1'},\n",
       "  {'prefCode': 1,\n",
       "   'cityCode': '01106',\n",
       "   'cityName': '札幌市南区',\n",
       "   'bigCityFlag': '1'},\n",
       "  {'prefCode': 1,\n",
       "   'cityCode': '01107',\n",
       "   'cityName': '札幌市西区',\n",
       "   'bigCityFlag': '1'},\n",
       "  {'prefCode': 1,\n",
       "   'cityCode': '01108',\n",
       "   'cityName': '札幌市厚別区',\n",
       "   'bigCityFlag': '1'},\n",
       "  {'prefCode': 1,\n",
       "   'cityCode': '01109',\n",
       "   'cityName': '札幌市手稲区',\n",
       "   'bigCityFlag': '1'},\n",
       "  {'prefCode': 1,\n",
       "   'cityCode': '01110',\n",
       "   'cityName': '札幌市清田区',\n",
       "   'bigCityFlag': '1'},\n",
       "  {'prefCode': 1, 'cityCode': '01202', 'cityName': '函館市', 'bigCityFlag': '0'},\n",
       "  {'prefCode': 1, 'cityCode': '01203', 'cityName': '小樽市', 'bigCityFlag': '0'},\n",
       "  {'prefCode': 1, 'cityCode': '01204', 'cityName': '旭川市', 'bigCityFlag': '0'},\n",
       "  {'prefCode': 1, 'cityCode': '01205', 'cityName': '室蘭市', 'bigCityFlag': '0'},\n",
       "  {'prefCode': 1, 'cityCode': '01206', 'cityName': '釧路市', 'bigCityFlag': '0'},\n",
       "  {'prefCode': 1, 'cityCode': '01207', 'cityName': '帯広市', 'bigCityFlag': '0'},\n",
       "  {'prefCode': 1, 'cityCode': '01208', 'cityName': '北見市', 'bigCityFlag': '0'},\n",
       "  {'prefCode': 1, 'cityCode': '01209', 'cityName': '夕張市', 'bigCityFlag': '0'},\n",
       "  {'prefCode': 1, 'cityCode': '01210', 'cityName': '岩見沢市', 'bigCityFlag': '0'},\n",
       "  {'prefCode': 1, 'cityCode': '01211', 'cityName': '網走市', 'bigCityFlag': '0'},\n",
       "  {'prefCode': 1, 'cityCode': '01212', 'cityName': '留萌市', 'bigCityFlag': '0'},\n",
       "  {'prefCode': 1, 'cityCode': '01213', 'cityName': '苫小牧市', 'bigCityFlag': '0'},\n",
       "  {'prefCode': 1, 'cityCode': '01214', 'cityName': '稚内市', 'bigCityFlag': '0'},\n",
       "  {'prefCode': 1, 'cityCode': '01215', 'cityName': '美唄市', 'bigCityFlag': '0'},\n",
       "  {'prefCode': 1, 'cityCode': '01216', 'cityName': '芦別市', 'bigCityFlag': '0'},\n",
       "  {'prefCode': 1, 'cityCode': '01217', 'cityName': '江別市', 'bigCityFlag': '0'},\n",
       "  {'prefCode': 1, 'cityCode': '01218', 'cityName': '赤平市', 'bigCityFlag': '0'},\n",
       "  {'prefCode': 1, 'cityCode': '01219', 'cityName': '紋別市', 'bigCityFlag': '0'},\n",
       "  {'prefCode': 1, 'cityCode': '01220', 'cityName': '士別市', 'bigCityFlag': '0'},\n",
       "  {'prefCode': 1, 'cityCode': '01221', 'cityName': '名寄市', 'bigCityFlag': '0'},\n",
       "  {'prefCode': 1, 'cityCode': '01222', 'cityName': '三笠市', 'bigCityFlag': '0'},\n",
       "  {'prefCode': 1, 'cityCode': '01223', 'cityName': '根室市', 'bigCityFlag': '0'},\n",
       "  {'prefCode': 1, 'cityCode': '01224', 'cityName': '千歳市', 'bigCityFlag': '0'},\n",
       "  {'prefCode': 1, 'cityCode': '01225', 'cityName': '滝川市', 'bigCityFlag': '0'},\n",
       "  {'prefCode': 1, 'cityCode': '01226', 'cityName': '砂川市', 'bigCityFlag': '0'},\n",
       "  {'prefCode': 1, 'cityCode': '01227', 'cityName': '歌志内市', 'bigCityFlag': '0'},\n",
       "  {'prefCode': 1, 'cityCode': '01228', 'cityName': '深川市', 'bigCityFlag': '0'},\n",
       "  {'prefCode': 1, 'cityCode': '01229', 'cityName': '富良野市', 'bigCityFlag': '0'},\n",
       "  {'prefCode': 1, 'cityCode': '01230', 'cityName': '登別市', 'bigCityFlag': '0'},\n",
       "  {'prefCode': 1, 'cityCode': '01231', 'cityName': '恵庭市', 'bigCityFlag': '0'},\n",
       "  {'prefCode': 1, 'cityCode': '01233', 'cityName': '伊達市', 'bigCityFlag': '0'},\n",
       "  {'prefCode': 1, 'cityCode': '01234', 'cityName': '北広島市', 'bigCityFlag': '0'},\n",
       "  {'prefCode': 1, 'cityCode': '01235', 'cityName': '石狩市', 'bigCityFlag': '0'},\n",
       "  {'prefCode': 1, 'cityCode': '01236', 'cityName': '北斗市', 'bigCityFlag': '0'},\n",
       "  {'prefCode': 1, 'cityCode': '01303', 'cityName': '当別町', 'bigCityFlag': '0'},\n",
       "  {'prefCode': 1, 'cityCode': '01304', 'cityName': '新篠津村', 'bigCityFlag': '0'},\n",
       "  {'prefCode': 1, 'cityCode': '01331', 'cityName': '松前町', 'bigCityFlag': '0'},\n",
       "  {'prefCode': 1, 'cityCode': '01332', 'cityName': '福島町', 'bigCityFlag': '0'},\n",
       "  {'prefCode': 1, 'cityCode': '01333', 'cityName': '知内町', 'bigCityFlag': '0'},\n",
       "  {'prefCode': 1, 'cityCode': '01334', 'cityName': '木古内町', 'bigCityFlag': '0'},\n",
       "  {'prefCode': 1, 'cityCode': '01337', 'cityName': '七飯町', 'bigCityFlag': '0'},\n",
       "  {'prefCode': 1, 'cityCode': '01343', 'cityName': '鹿部町', 'bigCityFlag': '0'},\n",
       "  {'prefCode': 1, 'cityCode': '01345', 'cityName': '森町', 'bigCityFlag': '0'},\n",
       "  {'prefCode': 1, 'cityCode': '01346', 'cityName': '八雲町', 'bigCityFlag': '0'},\n",
       "  {'prefCode': 1, 'cityCode': '01347', 'cityName': '長万部町', 'bigCityFlag': '0'},\n",
       "  {'prefCode': 1, 'cityCode': '01361', 'cityName': '江差町', 'bigCityFlag': '0'},\n",
       "  {'prefCode': 1, 'cityCode': '01362', 'cityName': '上ノ国町', 'bigCityFlag': '0'},\n",
       "  {'prefCode': 1, 'cityCode': '01363', 'cityName': '厚沢部町', 'bigCityFlag': '0'},\n",
       "  {'prefCode': 1, 'cityCode': '01364', 'cityName': '乙部町', 'bigCityFlag': '0'},\n",
       "  {'prefCode': 1, 'cityCode': '01367', 'cityName': '奥尻町', 'bigCityFlag': '0'},\n",
       "  {'prefCode': 1, 'cityCode': '01370', 'cityName': '今金町', 'bigCityFlag': '0'},\n",
       "  {'prefCode': 1, 'cityCode': '01371', 'cityName': 'せたな町', 'bigCityFlag': '0'},\n",
       "  {'prefCode': 1, 'cityCode': '01391', 'cityName': '島牧村', 'bigCityFlag': '0'},\n",
       "  {'prefCode': 1, 'cityCode': '01392', 'cityName': '寿都町', 'bigCityFlag': '0'},\n",
       "  {'prefCode': 1, 'cityCode': '01393', 'cityName': '黒松内町', 'bigCityFlag': '0'},\n",
       "  {'prefCode': 1, 'cityCode': '01394', 'cityName': '蘭越町', 'bigCityFlag': '0'},\n",
       "  {'prefCode': 1, 'cityCode': '01395', 'cityName': 'ニセコ町', 'bigCityFlag': '0'},\n",
       "  {'prefCode': 1, 'cityCode': '01396', 'cityName': '真狩村', 'bigCityFlag': '0'},\n",
       "  {'prefCode': 1, 'cityCode': '01397', 'cityName': '留寿都村', 'bigCityFlag': '0'},\n",
       "  {'prefCode': 1, 'cityCode': '01398', 'cityName': '喜茂別町', 'bigCityFlag': '0'},\n",
       "  {'prefCode': 1, 'cityCode': '01399', 'cityName': '京極町', 'bigCityFlag': '0'},\n",
       "  {'prefCode': 1, 'cityCode': '01400', 'cityName': '倶知安町', 'bigCityFlag': '0'},\n",
       "  {'prefCode': 1, 'cityCode': '01401', 'cityName': '共和町', 'bigCityFlag': '0'},\n",
       "  {'prefCode': 1, 'cityCode': '01402', 'cityName': '岩内町', 'bigCityFlag': '0'},\n",
       "  {'prefCode': 1, 'cityCode': '01403', 'cityName': '泊村', 'bigCityFlag': '0'},\n",
       "  {'prefCode': 1, 'cityCode': '01404', 'cityName': '神恵内村', 'bigCityFlag': '0'},\n",
       "  {'prefCode': 1, 'cityCode': '01405', 'cityName': '積丹町', 'bigCityFlag': '0'},\n",
       "  {'prefCode': 1, 'cityCode': '01406', 'cityName': '古平町', 'bigCityFlag': '0'},\n",
       "  {'prefCode': 1, 'cityCode': '01407', 'cityName': '仁木町', 'bigCityFlag': '0'},\n",
       "  {'prefCode': 1, 'cityCode': '01408', 'cityName': '余市町', 'bigCityFlag': '0'},\n",
       "  {'prefCode': 1, 'cityCode': '01409', 'cityName': '赤井川村', 'bigCityFlag': '0'},\n",
       "  {'prefCode': 1, 'cityCode': '01423', 'cityName': '南幌町', 'bigCityFlag': '0'},\n",
       "  {'prefCode': 1, 'cityCode': '01424', 'cityName': '奈井江町', 'bigCityFlag': '0'},\n",
       "  {'prefCode': 1, 'cityCode': '01425', 'cityName': '上砂川町', 'bigCityFlag': '0'},\n",
       "  {'prefCode': 1, 'cityCode': '01427', 'cityName': '由仁町', 'bigCityFlag': '0'},\n",
       "  {'prefCode': 1, 'cityCode': '01428', 'cityName': '長沼町', 'bigCityFlag': '0'},\n",
       "  {'prefCode': 1, 'cityCode': '01429', 'cityName': '栗山町', 'bigCityFlag': '0'},\n",
       "  {'prefCode': 1, 'cityCode': '01430', 'cityName': '月形町', 'bigCityFlag': '0'},\n",
       "  {'prefCode': 1, 'cityCode': '01431', 'cityName': '浦臼町', 'bigCityFlag': '0'},\n",
       "  {'prefCode': 1,\n",
       "   'cityCode': '01432',\n",
       "   'cityName': '新十津川町',\n",
       "   'bigCityFlag': '0'},\n",
       "  {'prefCode': 1, 'cityCode': '01433', 'cityName': '妹背牛町', 'bigCityFlag': '0'},\n",
       "  {'prefCode': 1, 'cityCode': '01434', 'cityName': '秩父別町', 'bigCityFlag': '0'},\n",
       "  {'prefCode': 1, 'cityCode': '01436', 'cityName': '雨竜町', 'bigCityFlag': '0'},\n",
       "  {'prefCode': 1, 'cityCode': '01437', 'cityName': '北竜町', 'bigCityFlag': '0'},\n",
       "  {'prefCode': 1, 'cityCode': '01438', 'cityName': '沼田町', 'bigCityFlag': '0'},\n",
       "  {'prefCode': 1, 'cityCode': '01452', 'cityName': '鷹栖町', 'bigCityFlag': '0'},\n",
       "  {'prefCode': 1, 'cityCode': '01453', 'cityName': '東神楽町', 'bigCityFlag': '0'},\n",
       "  {'prefCode': 1, 'cityCode': '01454', 'cityName': '当麻町', 'bigCityFlag': '0'},\n",
       "  {'prefCode': 1, 'cityCode': '01455', 'cityName': '比布町', 'bigCityFlag': '0'},\n",
       "  {'prefCode': 1, 'cityCode': '01456', 'cityName': '愛別町', 'bigCityFlag': '0'},\n",
       "  {'prefCode': 1, 'cityCode': '01457', 'cityName': '上川町', 'bigCityFlag': '0'},\n",
       "  {'prefCode': 1, 'cityCode': '01458', 'cityName': '東川町', 'bigCityFlag': '0'},\n",
       "  {'prefCode': 1, 'cityCode': '01459', 'cityName': '美瑛町', 'bigCityFlag': '0'},\n",
       "  {'prefCode': 1,\n",
       "   'cityCode': '01460',\n",
       "   'cityName': '上富良野町',\n",
       "   'bigCityFlag': '0'},\n",
       "  {'prefCode': 1,\n",
       "   'cityCode': '01461',\n",
       "   'cityName': '中富良野町',\n",
       "   'bigCityFlag': '0'},\n",
       "  {'prefCode': 1,\n",
       "   'cityCode': '01462',\n",
       "   'cityName': '南富良野町',\n",
       "   'bigCityFlag': '0'},\n",
       "  {'prefCode': 1, 'cityCode': '01463', 'cityName': '占冠村', 'bigCityFlag': '0'},\n",
       "  {'prefCode': 1, 'cityCode': '01464', 'cityName': '和寒町', 'bigCityFlag': '0'},\n",
       "  {'prefCode': 1, 'cityCode': '01465', 'cityName': '剣淵町', 'bigCityFlag': '0'},\n",
       "  {'prefCode': 1, 'cityCode': '01468', 'cityName': '下川町', 'bigCityFlag': '0'},\n",
       "  {'prefCode': 1, 'cityCode': '01469', 'cityName': '美深町', 'bigCityFlag': '0'},\n",
       "  {'prefCode': 1,\n",
       "   'cityCode': '01470',\n",
       "   'cityName': '音威子府村',\n",
       "   'bigCityFlag': '0'},\n",
       "  {'prefCode': 1, 'cityCode': '01471', 'cityName': '中川町', 'bigCityFlag': '0'},\n",
       "  {'prefCode': 1, 'cityCode': '01472', 'cityName': '幌加内町', 'bigCityFlag': '0'},\n",
       "  {'prefCode': 1, 'cityCode': '01481', 'cityName': '増毛町', 'bigCityFlag': '0'},\n",
       "  {'prefCode': 1, 'cityCode': '01482', 'cityName': '小平町', 'bigCityFlag': '0'},\n",
       "  {'prefCode': 1, 'cityCode': '01483', 'cityName': '苫前町', 'bigCityFlag': '0'},\n",
       "  {'prefCode': 1, 'cityCode': '01484', 'cityName': '羽幌町', 'bigCityFlag': '0'},\n",
       "  {'prefCode': 1, 'cityCode': '01485', 'cityName': '初山別村', 'bigCityFlag': '0'},\n",
       "  {'prefCode': 1, 'cityCode': '01486', 'cityName': '遠別町', 'bigCityFlag': '0'},\n",
       "  {'prefCode': 1, 'cityCode': '01487', 'cityName': '天塩町', 'bigCityFlag': '0'},\n",
       "  {'prefCode': 1, 'cityCode': '01511', 'cityName': '猿払村', 'bigCityFlag': '0'},\n",
       "  {'prefCode': 1, 'cityCode': '01512', 'cityName': '浜頓別町', 'bigCityFlag': '0'},\n",
       "  {'prefCode': 1, 'cityCode': '01513', 'cityName': '中頓別町', 'bigCityFlag': '0'},\n",
       "  {'prefCode': 1, 'cityCode': '01514', 'cityName': '枝幸町', 'bigCityFlag': '0'},\n",
       "  {'prefCode': 1, 'cityCode': '01516', 'cityName': '豊富町', 'bigCityFlag': '0'},\n",
       "  {'prefCode': 1, 'cityCode': '01517', 'cityName': '礼文町', 'bigCityFlag': '0'},\n",
       "  {'prefCode': 1, 'cityCode': '01518', 'cityName': '利尻町', 'bigCityFlag': '0'},\n",
       "  {'prefCode': 1,\n",
       "   'cityCode': '01519',\n",
       "   'cityName': '利尻富士町',\n",
       "   'bigCityFlag': '0'},\n",
       "  {'prefCode': 1, 'cityCode': '01520', 'cityName': '幌延町', 'bigCityFlag': '0'},\n",
       "  {'prefCode': 1, 'cityCode': '01543', 'cityName': '美幌町', 'bigCityFlag': '0'},\n",
       "  {'prefCode': 1, 'cityCode': '01544', 'cityName': '津別町', 'bigCityFlag': '0'},\n",
       "  {'prefCode': 1, 'cityCode': '01545', 'cityName': '斜里町', 'bigCityFlag': '0'},\n",
       "  {'prefCode': 1, 'cityCode': '01546', 'cityName': '清里町', 'bigCityFlag': '0'},\n",
       "  {'prefCode': 1, 'cityCode': '01547', 'cityName': '小清水町', 'bigCityFlag': '0'},\n",
       "  {'prefCode': 1, 'cityCode': '01549', 'cityName': '訓子府町', 'bigCityFlag': '0'},\n",
       "  {'prefCode': 1, 'cityCode': '01550', 'cityName': '置戸町', 'bigCityFlag': '0'},\n",
       "  {'prefCode': 1, 'cityCode': '01552', 'cityName': '佐呂間町', 'bigCityFlag': '0'},\n",
       "  {'prefCode': 1, 'cityCode': '01555', 'cityName': '遠軽町', 'bigCityFlag': '0'},\n",
       "  {'prefCode': 1, 'cityCode': '01559', 'cityName': '湧別町', 'bigCityFlag': '0'},\n",
       "  {'prefCode': 1, 'cityCode': '01560', 'cityName': '滝上町', 'bigCityFlag': '0'},\n",
       "  {'prefCode': 1, 'cityCode': '01561', 'cityName': '興部町', 'bigCityFlag': '0'},\n",
       "  {'prefCode': 1, 'cityCode': '01562', 'cityName': '西興部村', 'bigCityFlag': '0'},\n",
       "  {'prefCode': 1, 'cityCode': '01563', 'cityName': '雄武町', 'bigCityFlag': '0'},\n",
       "  {'prefCode': 1, 'cityCode': '01564', 'cityName': '大空町', 'bigCityFlag': '0'},\n",
       "  {'prefCode': 1, 'cityCode': '01571', 'cityName': '豊浦町', 'bigCityFlag': '0'},\n",
       "  {'prefCode': 1, 'cityCode': '01575', 'cityName': '壮瞥町', 'bigCityFlag': '0'},\n",
       "  {'prefCode': 1, 'cityCode': '01578', 'cityName': '白老町', 'bigCityFlag': '0'},\n",
       "  {'prefCode': 1, 'cityCode': '01581', 'cityName': '厚真町', 'bigCityFlag': '0'},\n",
       "  {'prefCode': 1, 'cityCode': '01584', 'cityName': '洞爺湖町', 'bigCityFlag': '0'},\n",
       "  {'prefCode': 1, 'cityCode': '01585', 'cityName': '安平町', 'bigCityFlag': '0'},\n",
       "  {'prefCode': 1, 'cityCode': '01586', 'cityName': 'むかわ町', 'bigCityFlag': '0'},\n",
       "  {'prefCode': 1, 'cityCode': '01601', 'cityName': '日高町', 'bigCityFlag': '0'},\n",
       "  {'prefCode': 1, 'cityCode': '01602', 'cityName': '平取町', 'bigCityFlag': '0'},\n",
       "  {'prefCode': 1, 'cityCode': '01604', 'cityName': '新冠町', 'bigCityFlag': '0'},\n",
       "  {'prefCode': 1, 'cityCode': '01607', 'cityName': '浦河町', 'bigCityFlag': '0'},\n",
       "  {'prefCode': 1, 'cityCode': '01608', 'cityName': '様似町', 'bigCityFlag': '0'},\n",
       "  {'prefCode': 1, 'cityCode': '01609', 'cityName': 'えりも町', 'bigCityFlag': '0'},\n",
       "  {'prefCode': 1,\n",
       "   'cityCode': '01610',\n",
       "   'cityName': '新ひだか町',\n",
       "   'bigCityFlag': '0'},\n",
       "  {'prefCode': 1, 'cityCode': '01631', 'cityName': '音更町', 'bigCityFlag': '0'},\n",
       "  {'prefCode': 1, 'cityCode': '01632', 'cityName': '士幌町', 'bigCityFlag': '0'},\n",
       "  {'prefCode': 1, 'cityCode': '01633', 'cityName': '上士幌町', 'bigCityFlag': '0'},\n",
       "  {'prefCode': 1, 'cityCode': '01634', 'cityName': '鹿追町', 'bigCityFlag': '0'},\n",
       "  {'prefCode': 1, 'cityCode': '01635', 'cityName': '新得町', 'bigCityFlag': '0'},\n",
       "  {'prefCode': 1, 'cityCode': '01636', 'cityName': '清水町', 'bigCityFlag': '0'},\n",
       "  {'prefCode': 1, 'cityCode': '01637', 'cityName': '芽室町', 'bigCityFlag': '0'},\n",
       "  {'prefCode': 1, 'cityCode': '01638', 'cityName': '中札内村', 'bigCityFlag': '0'},\n",
       "  {'prefCode': 1, 'cityCode': '01639', 'cityName': '更別村', 'bigCityFlag': '0'},\n",
       "  {'prefCode': 1, 'cityCode': '01641', 'cityName': '大樹町', 'bigCityFlag': '0'},\n",
       "  {'prefCode': 1, 'cityCode': '01642', 'cityName': '広尾町', 'bigCityFlag': '0'},\n",
       "  {'prefCode': 1, 'cityCode': '01643', 'cityName': '幕別町', 'bigCityFlag': '0'},\n",
       "  {'prefCode': 1, 'cityCode': '01644', 'cityName': '池田町', 'bigCityFlag': '0'},\n",
       "  {'prefCode': 1, 'cityCode': '01645', 'cityName': '豊頃町', 'bigCityFlag': '0'},\n",
       "  {'prefCode': 1, 'cityCode': '01646', 'cityName': '本別町', 'bigCityFlag': '0'},\n",
       "  {'prefCode': 1, 'cityCode': '01647', 'cityName': '足寄町', 'bigCityFlag': '0'},\n",
       "  {'prefCode': 1, 'cityCode': '01648', 'cityName': '陸別町', 'bigCityFlag': '0'},\n",
       "  {'prefCode': 1, 'cityCode': '01649', 'cityName': '浦幌町', 'bigCityFlag': '0'},\n",
       "  {'prefCode': 1, 'cityCode': '01661', 'cityName': '釧路町', 'bigCityFlag': '0'},\n",
       "  {'prefCode': 1, 'cityCode': '01662', 'cityName': '厚岸町', 'bigCityFlag': '0'},\n",
       "  {'prefCode': 1, 'cityCode': '01663', 'cityName': '浜中町', 'bigCityFlag': '0'},\n",
       "  {'prefCode': 1, 'cityCode': '01664', 'cityName': '標茶町', 'bigCityFlag': '0'},\n",
       "  {'prefCode': 1, 'cityCode': '01665', 'cityName': '弟子屈町', 'bigCityFlag': '0'},\n",
       "  {'prefCode': 1, 'cityCode': '01667', 'cityName': '鶴居村', 'bigCityFlag': '0'},\n",
       "  {'prefCode': 1, 'cityCode': '01668', 'cityName': '白糠町', 'bigCityFlag': '0'},\n",
       "  {'prefCode': 1, 'cityCode': '01691', 'cityName': '別海町', 'bigCityFlag': '0'},\n",
       "  {'prefCode': 1, 'cityCode': '01692', 'cityName': '中標津町', 'bigCityFlag': '0'},\n",
       "  {'prefCode': 1, 'cityCode': '01693', 'cityName': '標津町', 'bigCityFlag': '0'},\n",
       "  {'prefCode': 1, 'cityCode': '01694', 'cityName': '羅臼町', 'bigCityFlag': '0'},\n",
       "  {'prefCode': 1, 'cityCode': '01695', 'cityName': '色丹村', 'bigCityFlag': '0'},\n",
       "  {'prefCode': 1,\n",
       "   'cityCode': '01696',\n",
       "   'cityName': '国後郡泊村',\n",
       "   'bigCityFlag': '0'},\n",
       "  {'prefCode': 1, 'cityCode': '01697', 'cityName': '留夜別村', 'bigCityFlag': '0'},\n",
       "  {'prefCode': 1, 'cityCode': '01698', 'cityName': '留別村', 'bigCityFlag': '0'},\n",
       "  {'prefCode': 1, 'cityCode': '01699', 'cityName': '紗那村', 'bigCityFlag': '0'},\n",
       "  {'prefCode': 1, 'cityCode': '01700', 'cityName': '蘂取村', 'bigCityFlag': '0'}]}"
      ]
     },
     "execution_count": 5,
     "metadata": {},
     "output_type": "execute_result"
    }
   ],
   "source": [
    "resaspy.cities(1)"
   ]
  },
  {
   "cell_type": "code",
   "execution_count": 14,
   "metadata": {},
   "outputs": [
    {
     "ename": "AttributeError",
     "evalue": "'Resaspy' object has no attribute 'Tourism'",
     "output_type": "error",
     "traceback": [
      "\u001b[0;31m---------------------------------------------------------------------------\u001b[0m",
      "\u001b[0;31mAttributeError\u001b[0m                            Traceback (most recent call last)",
      "\u001b[0;32m<ipython-input-14-252aa5704866>\u001b[0m in \u001b[0;36m<module>\u001b[0;34m\u001b[0m\n\u001b[0;32m----> 1\u001b[0;31m \u001b[0mresaspy\u001b[0m\u001b[0;34m.\u001b[0m\u001b[0mTourism\u001b[0m\u001b[0;34m\u001b[0m\u001b[0;34m\u001b[0m\u001b[0m\n\u001b[0m",
      "\u001b[0;31mAttributeError\u001b[0m: 'Resaspy' object has no attribute 'Tourism'"
     ]
    }
   ],
   "source": [
    "resaspy.tourism"
   ]
  },
  {
   "cell_type": "code",
   "execution_count": 20,
   "metadata": {},
   "outputs": [
    {
     "data": {
      "text/plain": [
       "<resaspy.resaspy.Resaspy.Jobs at 0x104770128>"
      ]
     },
     "execution_count": 20,
     "metadata": {},
     "output_type": "execute_result"
    }
   ],
   "source": [
    "resaspy.jobs"
   ]
  },
  {
   "cell_type": "code",
   "execution_count": 28,
   "metadata": {},
   "outputs": [
    {
     "data": {
      "text/plain": [
       "<resaspy.agriculture.Fishery at 0x104ef9e80>"
      ]
     },
     "execution_count": 28,
     "metadata": {},
     "output_type": "execute_result"
    }
   ],
   "source": [
    "resaspy.fishery"
   ]
  },
  {
   "cell_type": "code",
   "execution_count": 30,
   "metadata": {},
   "outputs": [
    {
     "ename": "AttributeError",
     "evalue": "'Fishery' object has no attribute 'sales'",
     "output_type": "error",
     "traceback": [
      "\u001b[0;31m---------------------------------------------------------------------------\u001b[0m",
      "\u001b[0;31mAttributeError\u001b[0m                            Traceback (most recent call last)",
      "\u001b[0;32m<ipython-input-30-dd20a84ad300>\u001b[0m in \u001b[0;36m<module>\u001b[0;34m\u001b[0m\n\u001b[0;32m----> 1\u001b[0;31m \u001b[0mresaspy\u001b[0m\u001b[0;34m.\u001b[0m\u001b[0mfishery\u001b[0m\u001b[0;34m.\u001b[0m\u001b[0msales\u001b[0m\u001b[0;34m\u001b[0m\u001b[0;34m\u001b[0m\u001b[0m\n\u001b[0m",
      "\u001b[0;31mAttributeError\u001b[0m: 'Fishery' object has no attribute 'sales'"
     ]
    }
   ],
   "source": [
    "resaspy.fishery.sales"
   ]
  },
  {
   "cell_type": "code",
   "execution_count": 31,
   "metadata": {},
   "outputs": [
    {
     "data": {
      "text/plain": [
       "<resaspy.resaspy.Resaspy at 0x1047769e8>"
      ]
     },
     "execution_count": 31,
     "metadata": {},
     "output_type": "execute_result"
    }
   ],
   "source": [
    "resaspy"
   ]
  },
  {
   "cell_type": "code",
   "execution_count": 32,
   "metadata": {},
   "outputs": [
    {
     "ename": "TypeError",
     "evalue": "'Municipality' object is not callable",
     "output_type": "error",
     "traceback": [
      "\u001b[0;31m---------------------------------------------------------------------------\u001b[0m",
      "\u001b[0;31mTypeError\u001b[0m                                 Traceback (most recent call last)",
      "\u001b[0;32m<ipython-input-32-5ec5bd3504bc>\u001b[0m in \u001b[0;36m<module>\u001b[0;34m\u001b[0m\n\u001b[0;32m----> 1\u001b[0;31m \u001b[0mresaspy\u001b[0m\u001b[0;34m.\u001b[0m\u001b[0mmunicipality\u001b[0m\u001b[0;34m(\u001b[0m\u001b[0;34m)\u001b[0m\u001b[0;34m\u001b[0m\u001b[0;34m\u001b[0m\u001b[0m\n\u001b[0m",
      "\u001b[0;31mTypeError\u001b[0m: 'Municipality' object is not callable"
     ]
    }
   ],
   "source": [
    "resaspy.municipality()"
   ]
  },
  {
   "cell_type": "code",
   "execution_count": 36,
   "metadata": {},
   "outputs": [
    {
     "data": {
      "text/plain": [
       "''"
      ]
     },
     "execution_count": 36,
     "metadata": {},
     "output_type": "execute_result"
    }
   ],
   "source": [
    "resaspy.category"
   ]
  },
  {
   "cell_type": "code",
   "execution_count": null,
   "metadata": {},
   "outputs": [],
   "source": []
  }
 ],
 "metadata": {
  "kernelspec": {
   "display_name": "Python 3",
   "language": "python",
   "name": "python3"
  },
  "language_info": {
   "codemirror_mode": {
    "name": "ipython",
    "version": 3
   },
   "file_extension": ".py",
   "mimetype": "text/x-python",
   "name": "python",
   "nbconvert_exporter": "python",
   "pygments_lexer": "ipython3",
   "version": "3.7.3"
  }
 },
 "nbformat": 4,
 "nbformat_minor": 2
}
